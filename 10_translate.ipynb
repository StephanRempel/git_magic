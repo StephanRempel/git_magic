{
 "cells": [
  {
   "cell_type": "code",
   "execution_count": null,
   "metadata": {},
   "outputs": [],
   "source": [
    "# default_exp translate"
   ]
  },
  {
   "cell_type": "markdown",
   "metadata": {},
   "source": [
    "# Appendix B: Translating This Guide \n",
    "> Summary"
   ]
  },
  {
   "cell_type": "markdown",
   "metadata": {},
   "source": [
    "I recommend the following steps for translating this guide, so my scripts can\n",
    "quickly produce HTML and PDF versions, and all translations can live in the\n",
    "same repository.\n",
    "\n",
    "Clone the source, then create a directory corresponding to the target\n",
    "language's IETF tag: see\n",
    "http://www.w3.org/International/articles/language-tags/Overview.en.php[the W3C\n",
    "article on internationalization]. For example, English is \"en\" and Japanese is\n",
    "\"ja\". In the new directory, and translate the +txt+ files from the \"en\"\n",
    "subdirectory.\n",
    "\n",
    "For instance, to translate the guide into http://en.wikipedia.org/wiki/Klingon_language[Klingon], you might type:"
   ]
  },
  {
   "cell_type": "code",
   "execution_count": null,
   "metadata": {},
   "outputs": [],
   "source": [
    " ! git clone git://repo.or.cz/gitmagic.git\n",
    " ! cd gitmagic\n",
    " ! mkdir tlh  # \"tlh\" is the IETF language code for Klingon.\n",
    " ! cd tlh\n",
    " ! cp ../en/intro.txt .\n",
    " ! edit intro.txt  # Translate the file.\n"
   ]
  },
  {
   "cell_type": "markdown",
   "metadata": {},
   "source": [
    "\n",
    "and so on for each text file.\n",
    "\n",
    "Edit the Makefile and add the language code to the `TRANSLATIONS` variable.\n",
    "You can now review your work incrementally:\n",
    "\n"
   ]
  },
  {
   "cell_type": "code",
   "execution_count": null,
   "metadata": {},
   "outputs": [],
   "source": [
    " ! make tlh\n",
    " ! firefox book-tlh/index.html\n"
   ]
  },
  {
   "cell_type": "markdown",
   "metadata": {},
   "source": [
    "\n",
    "Commit your changes often, then let me know when they're ready.\n",
    "GitHub has an interface that facilitates this: fork the \"gitmagic\" project,\n",
    "push your changes, then ask me to merge.\n"
   ]
  }
 ],
 "metadata": {
  "kernelspec": {
   "display_name": "Python 3",
   "language": "python",
   "name": "python3"
  }
 },
 "nbformat": 4,
 "nbformat_minor": 4
}
