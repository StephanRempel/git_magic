{
 "cells": [
  {
   "cell_type": "code",
   "execution_count": null,
   "metadata": {},
   "outputs": [],
   "source": [
    "# default_exp multiplayer"
   ]
  },
  {
   "cell_type": "markdown",
   "metadata": {},
   "source": [
    "# Multiplayer Git \n",
    "> Summary"
   ]
  },
  {
   "cell_type": "markdown",
   "metadata": {},
   "source": [
    "Initially I used Git on a private project where I was the sole developer.\n",
    "Amongst the commands related to Git's distributed nature, I needed only *pull*\n",
    "and *clone* so could I keep the same project in different places.\n",
    "\n",
    "Later I wanted to publish my code with Git, and include changes from\n",
    "contributors. I had to learn how to manage projects with multiple developers\n",
    "from all over the world. Fortunately, this is Git's forte, and arguably its\n",
    "raison d'être.\n",
    "\n",
    "### Who Am I? \n",
    "\n",
    "Every commit has an author name and email, which is shown by *git log*.\n",
    "By default, Git uses system settings to populate these fields.\n",
    "To set them explicitly, type:"
   ]
  },
  {
   "cell_type": "code",
   "execution_count": null,
   "metadata": {},
   "outputs": [],
   "source": [
    "  ! git config --global user.name \"John Doe\"\n",
    "  ! git config --global user.email johndoe@example.com\n"
   ]
  },
  {
   "cell_type": "markdown",
   "metadata": {},
   "source": [
    "\n",
    "Omit the global flag to set these options only for the current repository.\n",
    "\n",
    "### Git Over SSH, HTTP \n",
    "\n",
    "Suppose you have SSH access to a web server, but Git is not installed. Though\n",
    "less efficient than its native protocol, Git can communicate over HTTP.\n",
    "\n",
    "Download, compile and install Git in your account, and create a repository in\n",
    "your web directory:\n",
    "\n"
   ]
  },
  {
   "cell_type": "code",
   "execution_count": null,
   "metadata": {},
   "outputs": [],
   "source": [
    " ! GIT_DIR=proj.git git init\n",
    " ! cd proj.git\n",
    " ! git --bare update-server-info\n",
    " ! cp hooks/post-update.sample hooks/post-update\n"
   ]
  },
  {
   "cell_type": "markdown",
   "metadata": {},
   "source": [
    "\n",
    "For older versions of Git, the copy command fails and you should run:\n",
    "\n"
   ]
  },
  {
   "cell_type": "code",
   "execution_count": null,
   "metadata": {},
   "outputs": [],
   "source": [
    " ! chmod a+x hooks/post-update\n"
   ]
  },
  {
   "cell_type": "markdown",
   "metadata": {},
   "source": [
    "\n",
    "Now you can publish your latest edits via SSH from any clone:\n",
    "\n"
   ]
  },
  {
   "cell_type": "code",
   "execution_count": null,
   "metadata": {},
   "outputs": [],
   "source": [
    " ! git push web.server:/path/to/proj.git master\n"
   ]
  },
  {
   "cell_type": "markdown",
   "metadata": {},
   "source": [
    "\n",
    "and anybody can get your project with:\n",
    "\n"
   ]
  },
  {
   "cell_type": "code",
   "execution_count": null,
   "metadata": {},
   "outputs": [],
   "source": [
    " ! git clone http://web.server/proj.git\n"
   ]
  },
  {
   "cell_type": "markdown",
   "metadata": {},
   "source": [
    "\n",
    "### Git Over Anything \n",
    "\n",
    "Want to synchronize repositories without servers, or even a network connection?\n",
    "Need to improvise during an emergency? We've seen <<makinghistory, *git\n",
    "fast-export* and *git fast-import* can convert repositories to a single file\n",
    "and back>>. We could shuttle such files back and forth to transport git\n",
    "repositories over any medium, but a more efficient tool is *git bundle*.\n",
    "\n",
    "The sender creates a 'bundle':\n",
    "\n"
   ]
  },
  {
   "cell_type": "code",
   "execution_count": null,
   "metadata": {},
   "outputs": [],
   "source": [
    " ! git bundle create somefile HEAD\n"
   ]
  },
  {
   "cell_type": "markdown",
   "metadata": {},
   "source": [
    "\n",
    "then transports the bundle, +somefile+, to the other party somehow: email,\n",
    "thumb drive, an *xxd* printout and an OCR scanner, reading bits over the phone,\n",
    "smoke signals, etc. The receiver retrieves commits from the bundle by typing:\n",
    "\n"
   ]
  },
  {
   "cell_type": "code",
   "execution_count": null,
   "metadata": {},
   "outputs": [],
   "source": [
    " ! git pull somefile\n"
   ]
  },
  {
   "cell_type": "markdown",
   "metadata": {},
   "source": [
    "\n",
    "The receiver can even do this from an empty repository. Despite its\n",
    "size, +somefile+ contains the entire original git repository.\n",
    "\n",
    "In larger projects, eliminate waste by bundling only changes the other\n",
    "repository lacks. For example, suppose the commit ``1b6d...'' is the most\n",
    "recent commit shared by both parties:\n",
    "\n"
   ]
  },
  {
   "cell_type": "code",
   "execution_count": null,
   "metadata": {},
   "outputs": [],
   "source": [
    " ! git bundle create somefile HEAD ^1b6d\n"
   ]
  },
  {
   "cell_type": "markdown",
   "metadata": {},
   "source": [
    "\n",
    "If done frequently, one could easily forget which commit was last sent. The\n",
    "help page suggests using tags to solve this. Namely, after you send a bundle,\n",
    "type:\n",
    "\n"
   ]
  },
  {
   "cell_type": "code",
   "execution_count": null,
   "metadata": {},
   "outputs": [],
   "source": [
    " ! git tag -f lastbundle HEAD\n"
   ]
  },
  {
   "cell_type": "markdown",
   "metadata": {},
   "source": [
    "\n",
    "and create new refresher bundles with:\n",
    "\n"
   ]
  },
  {
   "cell_type": "code",
   "execution_count": null,
   "metadata": {},
   "outputs": [],
   "source": [
    " ! git bundle create newbundle HEAD ^lastbundle\n"
   ]
  },
  {
   "cell_type": "markdown",
   "metadata": {},
   "source": [
    "\n",
    "### Patches: The Global Currency \n",
    "\n",
    "Patches are text representations of your changes that can be easily understood\n",
    "by computers and humans alike. This gives them universal appeal. You can email a\n",
    "patch to developers no matter what version control system they're using. As long\n",
    "as your audience can read their email, they can see your edits. Similarly, on\n",
    "your side, all you require is an email account: there's no need to setup an online Git repository.\n",
    "\n",
    "Recall from the first chapter:\n",
    "\n"
   ]
  },
  {
   "cell_type": "code",
   "execution_count": null,
   "metadata": {},
   "outputs": [],
   "source": [
    " ! git diff 1b6d > my.patch\n"
   ]
  },
  {
   "cell_type": "markdown",
   "metadata": {},
   "source": [
    "\n",
    "outputs a patch which can be pasted into an email for discussion. In a Git\n",
    "repository, type:\n",
    "\n"
   ]
  },
  {
   "cell_type": "code",
   "execution_count": null,
   "metadata": {},
   "outputs": [],
   "source": [
    " ! git apply < my.patch\n"
   ]
  },
  {
   "cell_type": "markdown",
   "metadata": {},
   "source": [
    "\n",
    "to apply the patch.\n",
    "\n",
    "In more formal settings, when author names and perhaps signatures should be\n",
    "recorded, generate the corresponding patches past a certain point by typing:\n",
    "\n"
   ]
  },
  {
   "cell_type": "code",
   "execution_count": null,
   "metadata": {},
   "outputs": [],
   "source": [
    " ! git format-patch 1b6d\n"
   ]
  },
  {
   "cell_type": "markdown",
   "metadata": {},
   "source": [
    "\n",
    "The resulting files can be given to *git-send-email*, or sent by hand. You can also specify a range of commits:\n",
    "\n"
   ]
  },
  {
   "cell_type": "code",
   "execution_count": null,
   "metadata": {},
   "outputs": [],
   "source": [
    " ! git format-patch 1b6d..HEAD^^\n"
   ]
  },
  {
   "cell_type": "markdown",
   "metadata": {},
   "source": [
    "\n",
    "On the receiving end, save an email to a file, then type:\n",
    "\n"
   ]
  },
  {
   "cell_type": "code",
   "execution_count": null,
   "metadata": {},
   "outputs": [],
   "source": [
    " ! git am < email.txt\n"
   ]
  },
  {
   "cell_type": "markdown",
   "metadata": {},
   "source": [
    "\n",
    "This applies the incoming patch and also creates a commit, including information such as the author.\n",
    "\n",
    "With a browser email client, you may need to click a button to see the email in its raw original form before saving the patch to a file.\n",
    "\n",
    "There are slight differences for mbox-based email clients, but if you use one\n",
    "of these, you're probably the sort of person who can figure them out easily\n",
    "without reading tutorials!\n",
    "\n",
    "### Sorry, We've Moved \n",
    "\n",
    "After cloning a repository, running *git push* or *git pull* will automatically\n",
    "push to or pull from the original URL. How does Git do this? The secret lies in\n",
    "config options created with the clone. Let's take a peek:\n",
    "\n"
   ]
  },
  {
   "cell_type": "code",
   "execution_count": null,
   "metadata": {},
   "outputs": [],
   "source": [
    " ! git config --list\n"
   ]
  },
  {
   "cell_type": "markdown",
   "metadata": {},
   "source": [
    "\n",
    "The +remote.origin.url+ option controls the source URL; ``origin'' is a nickname\n",
    "given to the source repository. As with the ``master'' branch convention, we may\n",
    "change or delete this nickname but there is usually no reason for doing so.\n",
    "\n",
    "If the original repository moves, we can update the URL via:\n",
    "\n"
   ]
  },
  {
   "cell_type": "code",
   "execution_count": null,
   "metadata": {},
   "outputs": [],
   "source": [
    " ! git config remote.origin.url git://new.url/proj.git\n"
   ]
  },
  {
   "cell_type": "markdown",
   "metadata": {},
   "source": [
    "\n",
    "The +branch.master.merge+ option specifies the default remote branch in\n",
    "a *git pull*. During the initial clone, it is set to the current branch of the\n",
    "source repository, so even if the HEAD of the source repository subsequently\n",
    "moves to a different branch, a later pull will faithfully follow the\n",
    "original branch.\n",
    "\n",
    "This option only applies to the repository we first cloned from, which is\n",
    "recorded in the option +branch.master.remote+. If we pull in from other\n",
    "repositories we must explicitly state which branch we want:\n",
    "\n"
   ]
  },
  {
   "cell_type": "code",
   "execution_count": null,
   "metadata": {},
   "outputs": [],
   "source": [
    " ! git pull git://example.com/other.git master\n"
   ]
  },
  {
   "cell_type": "markdown",
   "metadata": {},
   "source": [
    "\n",
    "The above explains why some of our earlier push and pull examples had no\n",
    "arguments.\n",
    "\n",
    "### Remote Branches \n",
    "\n",
    "When you clone a repository, you also clone all its branches. You may not have\n",
    "noticed this because Git hides them away: you must ask for them specifically.\n",
    "This prevents branches in the remote repository from interfering with\n",
    "your branches, and also makes Git easier for beginners.\n",
    "\n",
    "List the remote branches with:\n",
    "\n"
   ]
  },
  {
   "cell_type": "code",
   "execution_count": null,
   "metadata": {},
   "outputs": [],
   "source": [
    " ! git branch -r\n"
   ]
  },
  {
   "cell_type": "markdown",
   "metadata": {},
   "source": [
    "\n",
    "You should see something like:\n",
    "\n",
    " origin/HEAD\n",
    " origin/master\n",
    " origin/experimental\n",
    "\n",
    "These represent branches and the HEAD of the remote repository, and can be used\n",
    "in regular Git commands. For example, suppose you have made many commits, and\n",
    "wish to compare against the last fetched version. You could search through the\n",
    "logs for the appropriate SHA1 hash, but it's much easier to type:\n",
    "\n"
   ]
  },
  {
   "cell_type": "code",
   "execution_count": null,
   "metadata": {},
   "outputs": [],
   "source": [
    " ! git diff origin/HEAD\n"
   ]
  },
  {
   "cell_type": "markdown",
   "metadata": {},
   "source": [
    "\n",
    "Or you can see what the ``experimental'' branch has been up to:\n",
    "\n"
   ]
  },
  {
   "cell_type": "code",
   "execution_count": null,
   "metadata": {},
   "outputs": [],
   "source": [
    " ! git log origin/experimental\n"
   ]
  },
  {
   "cell_type": "markdown",
   "metadata": {},
   "source": [
    "\n",
    "### Multiple Remotes \n",
    "\n",
    "Suppose two other developers are working on our project, and we want to\n",
    "keep tabs on both. We can follow more than one repository at a time with:\n",
    "\n"
   ]
  },
  {
   "cell_type": "code",
   "execution_count": null,
   "metadata": {},
   "outputs": [],
   "source": [
    " ! git remote add other git://example.com/some_repo.git\n",
    " ! git pull other some_branch\n"
   ]
  },
  {
   "cell_type": "markdown",
   "metadata": {},
   "source": [
    "\n",
    "Now we have merged in a branch from the second repository, and we have\n",
    "easy access to all branches of all repositories:\n",
    "\n"
   ]
  },
  {
   "cell_type": "code",
   "execution_count": null,
   "metadata": {},
   "outputs": [],
   "source": [
    " ! git diff origin/experimental^ other/some_branch~5\n"
   ]
  },
  {
   "cell_type": "markdown",
   "metadata": {},
   "source": [
    "\n",
    "But what if we just want to compare their changes without affecting our own\n",
    "work? In other words, we want to examine their branches without having\n",
    "their changes invade our working directory. Then rather than pull, run:\n",
    "\n"
   ]
  },
  {
   "cell_type": "code",
   "execution_count": null,
   "metadata": {},
   "outputs": [],
   "source": [
    " ! git fetch        # Fetch from origin, the default.\n",
    " ! git fetch other  # Fetch from the second programmer.\n"
   ]
  },
  {
   "cell_type": "markdown",
   "metadata": {},
   "source": [
    "\n",
    "This just fetches histories. Although the working directory remains untouched,\n",
    "we can refer to any branch of any repository in a Git command because we now\n",
    "possess a local copy.\n",
    "\n",
    "Recall that behind the scenes, a pull is simply a *fetch* then *merge*.\n",
    "Usually we *pull* because we want to merge the latest commit after a fetch;\n",
    "this situation is a notable exception.\n",
    "\n",
    "See *git help remote* for how to remove remote repositories, ignore certain\n",
    "branches, and more.\n",
    "\n",
    "### My Preferences \n",
    "\n",
    "For my projects, I like contributors to prepare repositories from which I can\n",
    "pull. Some Git hosting services let you host your own fork of a project with\n",
    "the click of a button.\n",
    "\n",
    "After I fetch a tree, I run Git commands to navigate and examine the changes,\n",
    "which ideally are well-organized and well-described. I merge my own changes,\n",
    "and perhaps make further edits. Once satisfied, I push to the main repository.\n",
    "\n",
    "Though I infrequently receive contributions, I believe this approach scales\n",
    "well. See\n",
    "http://torvalds-family.blogspot.com/2009/06/happiness-is-warm-scm.html[this\n",
    "blog post by Linus Torvalds].\n",
    "\n",
    "Staying in the Git world is slightly more convenient than patch files, as it\n",
    "saves me from converting them to Git commits. Furthermore, Git handles details\n",
    "such as recording the author's name and email address, as well as the time and\n",
    "date, and asks the author to describe their own change.\n"
   ]
  }
 ],
 "metadata": {
  "kernelspec": {
   "display_name": "Python 3",
   "language": "python",
   "name": "python3"
  }
 },
 "nbformat": 4,
 "nbformat_minor": 4
}
