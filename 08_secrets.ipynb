{
 "cells": [
  {
   "cell_type": "code",
   "execution_count": null,
   "metadata": {},
   "outputs": [],
   "source": [
    "# default_exp secrets"
   ]
  },
  {
   "cell_type": "markdown",
   "metadata": {},
   "source": [
    "# Secrets Revealed \n",
    "> Summary"
   ]
  },
  {
   "cell_type": "markdown",
   "metadata": {},
   "source": [
    "We take a peek under the hood and explain how Git performs its miracles. I will skimp over details. For in-depth descriptions refer to http://schacon.github.com/git/user-manual.html[the user manual].\n",
    "\n",
    "### Invisibility \n",
    "\n",
    "How can Git be so unobtrusive? Aside from occasional commits and merges, you can work as if you were unaware that version control exists. That is, until you need it, and that's when you're glad Git was watching over you the whole time.\n",
    "\n",
    "Other version control systems force you to constantly struggle with red tape and bureaucracy. Permissions of files may be read-only unless you explicitly tell a central server which files you intend to edit. The most basic commands may slow to a crawl as the number of users increases. Work grinds to a halt when the network or the central server goes down.\n",
    "\n",
    "In contrast, Git simply keeps the history of your project in the `.git` directory in your working directory. This is your own copy of the history, so you can stay offline until you want to communicate with others. You have total control over the fate of your files because Git can easily recreate a saved state from `.git` at any time.\n",
    "\n",
    "### Integrity \n",
    "\n",
    "Most people associate cryptography with keeping information secret, but another equally important goal is keeping information safe. Proper use of cryptographic hash functions can prevent accidental or malicious data corruption.\n",
    "\n",
    "A SHA1 hash can be thought of as a unique 160-bit ID number for every string of bytes you'll encounter in your life. Actually more than that: every string of bytes that any human will ever use over many lifetimes.\n",
    "\n",
    "As a SHA1 hash is itself a string of bytes, we can hash strings of bytes containing other hashes. This simple observation is surprisingly useful: look up 'hash chains'. We'll later see how Git uses it to efficiently guarantee data integrity.\n",
    "\n",
    "Briefly, Git keeps your data in the `.git/objects` subdirectory, where instead of normal filenames, you'll find only IDs. By using IDs as filenames, as well as a few lockfiles and timestamping tricks, Git transforms any humble filesystem into an efficient and robust database.\n",
    "\n",
    "### Intelligence \n",
    "\n",
    "How does Git know you renamed a file, even though you never mentioned the fact explicitly? Sure, you may have run *git mv*, but that is exactly the same as a *git rm* followed by a *git add*.\n",
    "\n",
    "Git heuristically ferrets out renames and copies between successive versions. In fact, it can detect chunks of code being moved or copied around between files! Though it cannot cover all cases, it does a decent job, and this feature is always improving. If it fails to work for you, try options enabling more expensive copy detection, and consider upgrading.\n",
    "\n",
    "### Indexing \n",
    "\n",
    "For every tracked file, Git records information such as its size, creation time and last modification time in a file known as the 'index'. To determine whether a file has changed, Git compares its current stats with those cached in the index. If they match, then Git can skip reading the file again.\n",
    "\n",
    "Since stat calls are considerably faster than file reads, if you only edit a\n",
    "few files, Git can update its state in almost no time.\n",
    "\n",
    "We stated earlier that the index is a staging area. Why is a bunch of file\n",
    "stats a staging area? Because the add command puts files into Git's database\n",
    "and updates these stats, while the commit command, without options, creates a\n",
    "commit based only on these stats and the files already in the database.\n",
    "\n",
    "### Git's Origins \n",
    "\n",
    "This http://lkml.org/lkml/2005/4/6/121[Linux Kernel Mailing List post] describes the chain of events that led to Git. The entire thread is a fascinating archaeological site for Git historians.\n",
    "\n",
    "### The Object Database \n",
    "\n",
    "Every version of your data is kept in the 'object database', which lives in the\n",
    "subdirectory `.git/objects`; the other residents of `.git/` hold lesser data:\n",
    "the index, branch names, tags, configuration options, logs, the current\n",
    "location of the head commit, and so on. The object database is elementary yet\n",
    "elegant, and the source of Git's power.\n",
    "\n",
    "Each file within `.git/objects` is an 'object'. There are 3 kinds of objects\n",
    "that concern us: 'blob' objects, 'tree' objects, and 'commit' objects.\n",
    "\n",
    "### Blobs \n",
    "\n",
    "First, a magic trick. Pick a filename, any filename. In an empty directory:"
   ]
  },
  {
   "cell_type": "code",
   "execution_count": null,
   "metadata": {},
   "outputs": [
    {
     "name": "stdout",
     "output_type": "stream",
     "text": [
      "Reinitialized existing Git repository in /home/jovyan/work/git_magic/.git/\n",
      ".git/objects/cc/d42c04c6d2eaae3fac6cca5caa0d49cd652b00\n",
      ".git/objects/aa/823728ea7d592acc69b36875a482cdf3fd5c8d\n",
      ".git/objects/cd/4bfa9f665f5a0861819a44f185f756ab204e0c\n",
      ".git/objects/3f/866f780d4825a4e988d1858b756c9a9fa1a1d5\n",
      ".git/objects/fb/68294b9c4c320e0fe123468270685e0739106e\n",
      ".git/objects/ea/1a172cec8bb860e00fd6ecef20b9fc74c22425\n",
      ".git/objects/38/0d73c9a0ad8af88ce229ddc6650309279b7fd0\n",
      ".git/objects/22/64667f36f13659115f78653aac8c794fb2ef9c\n",
      ".git/objects/83/f1f205dd8f99cb4d6eb0c96a4ec08c8c79c0bd\n",
      ".git/objects/13/665904bc82a16cbf25145d2922d27c48819140\n",
      ".git/objects/b7/e933d6338cf5af1058e623cecc9d1632ff1e98\n",
      ".git/objects/da/087b57f5f5e0092f09c5dd766be607a3a6f590\n",
      ".git/objects/93/8417075f4fe848cdddf9a851c37e6928ddafe7\n",
      ".git/objects/ce/1439a5247efa53eee60aa8b19fb23b7595451a\n",
      ".git/objects/ce/4223551fc20c995b0a29c4dc9c17c8a836dfb6\n",
      ".git/objects/2f/4c48275b4ccc743b41239a4836a0f30e987359\n",
      ".git/objects/9d/6ba467a42f3b11bd7134d51fb1e44e237945ae\n",
      ".git/objects/b5/52733e393bda9b78ea87b63c4b6d83f9f8b889\n",
      ".git/objects/66/f4c0e61ae134ac842727a5ee3a4589e95d880e\n",
      ".git/objects/6e/0514175ec426316ebe37b3e3e3012df175629e\n",
      ".git/objects/37/4bec6f6afb78fbbddf25d9769b9bee7e4502a3\n",
      ".git/objects/a2/22463b723e20399eac204692307b9c4d18626b\n",
      ".git/objects/10/b37faec2a416f7956060a180635a15a73e946f\n",
      ".git/objects/87/778c93bc63ec19eb9a0f87236e17d13ccff823\n",
      ".git/objects/1b/3ae68755525a5cbbdd7918726ec3ef919ea218\n",
      ".git/objects/a8/284af8ae234ca1c440b1a1dcaa8afe1c638be1\n",
      ".git/objects/pack/pack-699929489b78c4efc580016458df099eef31b039.pack\n",
      ".git/objects/pack/pack-699929489b78c4efc580016458df099eef31b039.idx\n",
      ".git/objects/d3/34045d44396934df4b7e9fd9a86af4107af1bf\n",
      ".git/objects/98/2fb6cf7ad792b0c30a1b38efadb4d3113e3ab7\n",
      ".git/objects/79/2717bfba11c2ee72c9ed584e8fde7eaade34f6\n",
      ".git/objects/19/b45913521bdecf5e86ed3b03433b6c0a60b8e2\n",
      ".git/objects/f7/074dc234590973d078ab072296499337bb6e53\n",
      ".git/objects/96/9f7ae1ebe0a948ee76f9caf344e621743990c6\n",
      ".git/objects/30/1f5517c154b8ed6a2ef4ce4ab993d336b8f352\n",
      ".git/objects/85/a7bd8c251633b5afa7ec20951db8ab2e619822\n",
      ".git/objects/26/3a6a293014cbc6249f350d3cbd025e014c8df2\n",
      ".git/objects/5c/ce0def5318d97815add1e90d936045eab7b3bf\n",
      ".git/objects/5c/b23049de6218255f9a083058018f3fed120852\n",
      ".git/objects/0a/0696fcb373eb4db4bdc80048d01ef5755b5123\n",
      ".git/objects/94/5aebb07d9b3e6895819cf3b986bc39ae0f0174\n",
      ".git/objects/55/ac10e916d220eae459556e3342c4206b55a595\n",
      ".git/objects/12/ad7c0952e6457870fd78249858f0076517dbfd\n",
      ".git/objects/12/8c1628f2975af7c6ca44f5a39bf5d5ac6afc20\n",
      ".git/objects/1a/3698e6153e4fcfffa5dc56cab6d512d47ea31f\n",
      ".git/objects/3c/849204a6bf3914e17c215e8daa01cad4cfdf30\n",
      ".git/objects/3c/5aad7bd149f00baadf8aaa64a362db30edbc97\n",
      ".git/objects/29/7fb419c2f20602560d2a46cf33cca923fff035\n",
      ".git/objects/7f/a969eb9478c4a30957922283afca82c7f3aea1\n",
      ".git/objects/f1/02a9cadfa89ce554b3b26d2b90bfba2e05273c\n"
     ]
    }
   ],
   "source": [
    " ! echo sweet > YOUR_FILENAME\n",
    " ! git init\n",
    " ! git add .\n",
    " ! find .git/objects -type f\n"
   ]
  },
  {
   "cell_type": "markdown",
   "metadata": {},
   "source": [
    "\n",
    "You'll see +.git/objects/aa/823728ea7d592acc69b36875a482cdf3fd5c8d+.\n",
    "\n",
    "How do I know this without knowing the filename? It's because the\n",
    "SHA1 hash of:\n",
    "\n",
    " \"blob\" SP \"6\" NUL \"sweet\" LF\n",
    "\n",
    "is aa823728ea7d592acc69b36875a482cdf3fd5c8d,\n",
    "where SP is a space, NUL is a zero byte and LF is a linefeed. You can verify\n",
    "this by typing:\n",
    "\n"
   ]
  },
  {
   "cell_type": "code",
   "execution_count": null,
   "metadata": {},
   "outputs": [
    {
     "name": "stdout",
     "output_type": "stream",
     "text": [
      "aa823728ea7d592acc69b36875a482cdf3fd5c8d  -\n"
     ]
    }
   ],
   "source": [
    "  ! printf \"blob 6\\000sweet\\n\" | sha1sum\n"
   ]
  },
  {
   "cell_type": "markdown",
   "metadata": {},
   "source": [
    "\n",
    "Git is 'content-addressable': files are not stored according to their filename,\n",
    "but rather by the hash of the data they contain, in a file we call a 'blob\n",
    "object'. We can think of the hash as a unique ID for a file's contents, so\n",
    "in a sense we are addressing files by their content. The initial `blob 6` is\n",
    "merely a header consisting of the object type and its length in bytes; it\n",
    "simplifies internal bookkeeping.\n",
    "\n",
    "Thus I could easily predict what you would see. The file's name is irrelevant:\n",
    "only the data inside is used to construct the blob object.\n",
    "\n",
    "You may be wondering what happens to identical files. Try adding copies of\n",
    "your file, with any filenames whatsoever. The contents of +.git/objects+ stay\n",
    "the same no matter how many you add. Git only stores the data once.\n",
    "\n",
    "By the way, the files within +.git/objects+ are compressed with zlib so you\n",
    "should not stare at them directly. Filter them through\n",
    "http://www.zlib.net/zpipe.c[zpipe -d], or type:\n",
    "\n"
   ]
  },
  {
   "cell_type": "code",
   "execution_count": null,
   "metadata": {},
   "outputs": [
    {
     "name": "stdout",
     "output_type": "stream",
     "text": [
      "sweet\n"
     ]
    }
   ],
   "source": [
    " ! git cat-file -p aa823728ea7d592acc69b36875a482cdf3fd5c8d\n"
   ]
  },
  {
   "cell_type": "markdown",
   "metadata": {},
   "source": [
    "\n",
    "which pretty-prints the given object.\n",
    "\n",
    "### Trees \n",
    "\n",
    "But where are the filenames? They must be stored somewhere at some stage.\n",
    "Git gets around to the filenames during a commit:\n",
    "\n"
   ]
  },
  {
   "cell_type": "code",
   "execution_count": null,
   "metadata": {},
   "outputs": [],
   "source": [
    "#  ! git commit  # Type some message.\n",
    "#  ! find .git/objects -type f\n"
   ]
  },
  {
   "cell_type": "markdown",
   "metadata": {},
   "source": [
    "\n",
    "You should now see 3 objects. This time I cannot tell you what the 2 new files are, as it partly depends on the filename you picked. We'll proceed assuming you chose ``rose''. If you didn't, you can rewrite history to make it look like you did:\n",
    "\n"
   ]
  },
  {
   "cell_type": "code",
   "execution_count": null,
   "metadata": {},
   "outputs": [],
   "source": [
    "#  ! git filter-branch --tree-filter 'mv YOUR_FILENAME rose'\n",
    "#  ! find .git/objects -type f\n"
   ]
  },
  {
   "cell_type": "markdown",
   "metadata": {},
   "source": [
    "\n",
    "Now you should see the file\n",
    "+.git/objects/05/b217bb859794d08bb9e4f7f04cbda4b207fbe9+, because this is the\n",
    "SHA1 hash of its contents:\n",
    "\n",
    " \"tree\" SP \"32\" NUL \"100644 rose\" NUL 0xaa823728ea7d592acc69b36875a482cdf3fd5c8d\n",
    "\n",
    "Check this file does indeed contain the above by typing:\n",
    "\n"
   ]
  },
  {
   "cell_type": "code",
   "execution_count": null,
   "metadata": {},
   "outputs": [],
   "source": [
    "#  ! echo 05b217bb859794d08bb9e4f7f04cbda4b207fbe9 | git cat-file --batch\n"
   ]
  },
  {
   "cell_type": "markdown",
   "metadata": {},
   "source": [
    "\n",
    "With zpipe, it's easy to verify the hash:\n",
    "\n"
   ]
  },
  {
   "cell_type": "code",
   "execution_count": null,
   "metadata": {},
   "outputs": [
    {
     "name": "stdout",
     "output_type": "stream",
     "text": [
      "/bin/bash: .git/objects/05/b217bb859794d08bb9e4f7f04cbda4b207fbe9: No such file or directory\n",
      "da39a3ee5e6b4b0d3255bfef95601890afd80709  -\n"
     ]
    }
   ],
   "source": [
    " ! zpipe -d < .git/objects/05/b217bb859794d08bb9e4f7f04cbda4b207fbe9 | sha1sum\n"
   ]
  },
  {
   "cell_type": "markdown",
   "metadata": {},
   "source": [
    "\n",
    "Hash verification is trickier via cat-file because its output contains more\n",
    "than the raw uncompressed object file.\n",
    "\n",
    "This file is a 'tree' object: a list of tuples consisting of a file\n",
    "type, a filename, and a hash. In our example, the file type is 100644, which\n",
    "means `rose` is a normal file, and the hash is the blob object that contains\n",
    "the contents of `rose'. Other possible file types are executables, symlinks or\n",
    "directories. In the last case, the hash points to a tree object.\n",
    "\n",
    "If you ran filter-branch, you'll have old objects you no longer need. Although\n",
    "they will be jettisoned automatically once the grace period expires, we'll\n",
    "delete them now to make our toy example easier to follow:\n",
    "\n"
   ]
  },
  {
   "cell_type": "code",
   "execution_count": null,
   "metadata": {},
   "outputs": [],
   "source": [
    "#  ! rm -r .git/refs/original\n",
    "#  ! git reflog expire --expire=now --all\n",
    "#  ! git prune\n"
   ]
  },
  {
   "cell_type": "markdown",
   "metadata": {},
   "source": [
    "\n",
    "For real projects you should typically avoid commands like this, as you are\n",
    "destroying backups. If you want a clean repository, it is usually best to make\n",
    "a fresh clone. Also, take care when directly manipulating +.git+: what if a Git\n",
    "command is running at the same time, or a sudden power outage occurs?\n",
    "In general, refs should be deleted with *git update-ref -d*,\n",
    "though usually it's safe to remove +refs/original+ by hand.\n",
    "\n",
    "### Commits \n",
    "\n",
    "We've explained 2 of the 3 objects. The third is a 'commit' object. Its\n",
    "contents depend on the commit message as well as the date and time it was\n",
    "created. To match what we have here, we'll have to tweak it a little:\n",
    "\n"
   ]
  },
  {
   "cell_type": "code",
   "execution_count": null,
   "metadata": {},
   "outputs": [],
   "source": [
    "#  ! git commit --amend -m Shakespeare  # Change the commit message.\n",
    "#  ! git filter-branch --env-filter 'export\n"
   ]
  },
  {
   "cell_type": "markdown",
   "metadata": {},
   "source": [
    "     GIT_AUTHOR_DATE=\"Fri 13 Feb 2009 15:31:30 -0800\"\n",
    "     GIT_AUTHOR_NAME=\"Alice\"\n",
    "     GIT_AUTHOR_EMAIL=\"alice@example.com\"\n",
    "     GIT_COMMITTER_DATE=\"Fri, 13 Feb 2009 15:31:30 -0800\"\n",
    "     GIT_COMMITTER_NAME=\"Bob\"\n",
    "     GIT_COMMITTER_EMAIL=\"bob@example.com\"'  # Rig timestamps and authors.\n"
   ]
  },
  {
   "cell_type": "code",
   "execution_count": null,
   "metadata": {},
   "outputs": [],
   "source": [
    "#  ! find .git/objects -type f\n"
   ]
  },
  {
   "cell_type": "markdown",
   "metadata": {},
   "source": [
    "\n",
    "You should now see\n",
    "+.git/objects/49/993fe130c4b3bf24857a15d7969c396b7bc187+\n",
    "which is the SHA1 hash of its contents:\n",
    "\n",
    " \"commit 158\" NUL\n",
    " \"tree 05b217bb859794d08bb9e4f7f04cbda4b207fbe9\" LF\n",
    " \"author Alice <alice@example.com> 1234567890 -0800\" LF\n",
    " \"committer Bob <bob@example.com> 1234567890 -0800\" LF\n",
    " LF\n",
    " \"Shakespeare\" LF\n",
    "\n",
    "As before, you can run zpipe or cat-file to see for yourself.\n",
    "\n",
    "This is the first commit, so there are no parent commits, but later commits\n",
    "will always contain at least one line identifying a parent commit.\n",
    "\n",
    "### Indistinguishable From Magic \n",
    "\n",
    "Git's secrets seem too simple. It looks like you could mix together a few shell scripts and add a dash of C code to cook it up in a matter of hours: a melange of basic filesystem operations and SHA1 hashing, garnished with lock files and fsyncs for robustness. In fact, this accurately describes the earliest versions of Git. Nonetheless, apart from ingenious packing tricks to save space, and ingenious indexing tricks to save time, we now know how Git deftly changes a filesystem into a database perfect for version control.\n",
    "\n",
    "For example, if any file within the object database is corrupted by a disk\n",
    "error, then its hash will no longer match, alerting us to the problem. By\n",
    "hashing hashes of other objects, we maintain integrity at all levels. Commits\n",
    "are atomic, that is, a commit can never only partially record changes: we can\n",
    "only compute the hash of a commit and store it in the database after we already\n",
    "have stored all relevant trees, blobs and parent commits. The object\n",
    "database is immune to unexpected interruptions such as power outages.\n",
    "\n",
    "We defeat even the most devious adversaries. Suppose somebody attempts to\n",
    "stealthily modify the contents of a file in an ancient version of a project. To\n",
    "keep the object database looking healthy, they must also change the hash of the\n",
    "corresponding blob object since it's now a different string of bytes. This\n",
    "means they'll have to change the hash of any tree object referencing the file,\n",
    "and in turn change the hash of all commit objects involving such a tree, in\n",
    "addition to the hashes of all the descendants of these commits. This implies the\n",
    "hash of the official head differs to that of the bad repository. By\n",
    "following the trail of mismatching hashes we can pinpoint the mutilated file,\n",
    "as well as the commit where it was first corrupted.\n",
    "\n",
    "In short, so long as the 20 bytes representing the last commit are safe,\n",
    "it's impossible to tamper with a Git repository.\n",
    "\n",
    "What about Git's famous features? Branching? Merging? Tags?\n",
    "Mere details. The current head is kept in the file +.git/HEAD+,\n",
    "which contains a hash of a commit object. The hash gets updated during a commit\n",
    "as well as many other commands. Branches are almost the same: they are files in\n",
    "+.git/refs/heads+. Tags too: they live in +.git/refs/tags+ but they\n",
    "are updated by a different set of commands.\n"
   ]
  },
  {
   "cell_type": "code",
   "execution_count": null,
   "metadata": {},
   "outputs": [],
   "source": []
  }
 ],
 "metadata": {
  "kernelspec": {
   "display_name": "Python 3",
   "language": "python",
   "name": "python3"
  }
 },
 "nbformat": 4,
 "nbformat_minor": 4
}
