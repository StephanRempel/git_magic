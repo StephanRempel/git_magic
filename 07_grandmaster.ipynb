{
 "cells": [
  {
   "cell_type": "code",
   "execution_count": null,
   "metadata": {},
   "outputs": [],
   "source": [
    "# default_exp grandmaster"
   ]
  },
  {
   "cell_type": "markdown",
   "metadata": {},
   "source": [
    "# Git Grandmastery \n",
    "> Summary"
   ]
  },
  {
   "cell_type": "markdown",
   "metadata": {},
   "source": [
    "By now, you should be able to navigate the *git help* pages and understand\n",
    "almost everything. However, pinpointing the exact command required to solve a\n",
    "given problem can be tedious. Perhaps I can save you some time: below are some\n",
    "recipes I have needed in the past.\n",
    "\n",
    "### Source Releases \n",
    "\n",
    "For my projects, Git tracks exactly the files I'd like to archive and release\n",
    "to users. To create a tarball of the source code, I run:"
   ]
  },
  {
   "cell_type": "code",
   "execution_count": null,
   "metadata": {},
   "outputs": [],
   "source": [
    " ! git archive --format=tar --prefix=proj-1.2.3/ HEAD\n"
   ]
  },
  {
   "cell_type": "markdown",
   "metadata": {},
   "source": [
    "\n",
    "### Commit What Changed \n",
    "\n",
    "Telling Git when you've added, deleted and renamed files is troublesome for\n",
    "certain projects. Instead, you can type:\n",
    "\n"
   ]
  },
  {
   "cell_type": "code",
   "execution_count": null,
   "metadata": {},
   "outputs": [],
   "source": [
    " ! git add .\n",
    " ! git add -u\n"
   ]
  },
  {
   "cell_type": "markdown",
   "metadata": {},
   "source": [
    "\n",
    "Git will look at the files in the current directory and work out the details by\n",
    "itself. Instead of the second add command, run `git commit -a` if you also\n",
    "intend to commit at this time. See *git help ignore* for how to specify files\n",
    "that should be ignored.\n",
    "\n",
    "You can perform the above in a single pass with:\n",
    "\n"
   ]
  },
  {
   "cell_type": "code",
   "execution_count": null,
   "metadata": {},
   "outputs": [],
   "source": [
    " ! git ls-files -d -m -o -z | xargs -0 git update-index --add --remove\n"
   ]
  },
  {
   "cell_type": "markdown",
   "metadata": {},
   "source": [
    "\n",
    "The *-z* and *-0* options prevent ill side-effects from filenames containing\n",
    "strange characters. As this command adds ignored files, you may want to use the\n",
    "`-x` or `-X` option.\n",
    "\n",
    "### My Commit Is Too Big! \n",
    "\n",
    "Have you neglected to commit for too long? Been coding furiously and forgotten\n",
    "about source control until now? Made a series of unrelated changes, because\n",
    "that's your style?\n",
    "\n",
    "No worries. Run:\n",
    "\n"
   ]
  },
  {
   "cell_type": "code",
   "execution_count": null,
   "metadata": {},
   "outputs": [],
   "source": [
    " ! git add -p\n"
   ]
  },
  {
   "cell_type": "markdown",
   "metadata": {},
   "source": [
    "\n",
    "For each edit you made, Git will show you the hunk of code that was changed,\n",
    "and ask if it should be part of the next commit. Answer with \"y\" or \"n\". You\n",
    "have other options, such as postponing the decision; type \"?\" to learn more.\n",
    "\n",
    "Once you're satisfied, type\n",
    "\n"
   ]
  },
  {
   "cell_type": "code",
   "execution_count": null,
   "metadata": {},
   "outputs": [],
   "source": [
    " ! git commit\n"
   ]
  },
  {
   "cell_type": "markdown",
   "metadata": {},
   "source": [
    "\n",
    "to commit precisely the changes you selected (the 'staged' changes). Make sure\n",
    "you omit the *-a* option, otherwise Git will commit all the edits.\n",
    "\n",
    "What if you've edited many files in many places? Reviewing each change one by\n",
    "one becomes frustratingly mind-numbing. In this case, use *git add -i*, whose\n",
    "interface is less straightforward, but more flexible. With a few keystrokes,\n",
    "you can stage or unstage several files at a time, or review and select changes\n",
    "in particular files only. Alternatively, run *git commit \\--interactive* which\n",
    "automatically commits after you're done.\n",
    "\n",
    "### The Index: Git's Staging Area \n",
    "\n",
    "So far we have avoided Git's famous 'index', but we must now confront it to\n",
    "explain the above. The index is a temporary staging area. Git seldom shuttles\n",
    "data directly between your project and its history. Rather, Git first writes\n",
    "data to the index, and then copies the data in the index to its final\n",
    "destination.\n",
    "\n",
    "For example, *commit -a* is really a two-step process. The first step places a\n",
    "snapshot of the current state of every tracked file into the index. The second\n",
    "step permanently records the snapshot now in the index. Committing without the\n",
    "*-a* option only performs the second step, and only makes sense after running\n",
    "commands that somehow change the index, such as *git add*.\n",
    "\n",
    "Usually we can ignore the index and pretend we are reading straight from and writing straight to the history. On this occasion, we want finer control, so we manipulate the index. We place a snapshot of some, but not all, of our changes into the index, and then permanently record this carefully rigged snapshot.\n",
    "\n",
    "### Don't Lose Your HEAD \n",
    "\n",
    "The HEAD tag is like a cursor that normally points at the latest commit, advancing with each new commit. Some Git commands let you move it. For example:\n",
    "\n"
   ]
  },
  {
   "cell_type": "code",
   "execution_count": null,
   "metadata": {},
   "outputs": [],
   "source": [
    " ! git reset HEAD~3\n"
   ]
  },
  {
   "cell_type": "markdown",
   "metadata": {},
   "source": [
    "\n",
    "will move the HEAD three commits back. Thus all Git commands now act as if you hadn't made those last three commits, while your files remain in the present. See the help page for some applications.\n",
    "\n",
    "But how can you go back to the future? The past commits know nothing of the future.\n",
    "\n",
    "If you have the SHA1 of the original HEAD then:\n",
    "\n"
   ]
  },
  {
   "cell_type": "code",
   "execution_count": null,
   "metadata": {},
   "outputs": [],
   "source": [
    " ! git reset 1b6d\n"
   ]
  },
  {
   "cell_type": "markdown",
   "metadata": {},
   "source": [
    "\n",
    "But suppose you never took it down? Don't worry: for commands like these, Git saves the original HEAD as a tag called ORIG_HEAD, and you can return safe and sound with:\n",
    "\n"
   ]
  },
  {
   "cell_type": "code",
   "execution_count": null,
   "metadata": {},
   "outputs": [],
   "source": [
    " ! git reset ORIG_HEAD\n"
   ]
  },
  {
   "cell_type": "markdown",
   "metadata": {},
   "source": [
    "\n",
    "### HEAD-hunting \n",
    "\n",
    "Perhaps ORIG_HEAD isn't enough. Perhaps you've just realized you made a monumental mistake and you need to go back to an ancient commit in a long-forgotten branch.\n",
    "\n",
    "By default, Git keeps a commit for at least two weeks, even if you ordered\n",
    "Git to destroy the branch containing it. The trouble is finding the appropriate\n",
    "hash. You could look at all the hash values in `.git/objects` and use trial\n",
    "and error to find the one you want. But there's a much easier way.\n",
    "\n",
    "Git records every hash of a commit it computes in `.git/logs`. The subdirectory `refs` contains the history of all activity on all branches, while the file `HEAD` shows every hash value it has ever taken. The latter can be used to find hashes of commits on branches that have been accidentally lopped off.\n",
    "\n",
    "The reflog command provides a friendly interface to these log files. Try\n",
    "\n"
   ]
  },
  {
   "cell_type": "code",
   "execution_count": null,
   "metadata": {},
   "outputs": [],
   "source": [
    "  ! git reflog\n"
   ]
  },
  {
   "cell_type": "markdown",
   "metadata": {},
   "source": [
    "\n",
    "Instead of cutting and pasting hashes from the reflog, try:\n",
    "\n"
   ]
  },
  {
   "cell_type": "code",
   "execution_count": null,
   "metadata": {},
   "outputs": [],
   "source": [
    " ! git checkout \"@{10 minutes ago}\"\n"
   ]
  },
  {
   "cell_type": "markdown",
   "metadata": {},
   "source": [
    "\n",
    "Or checkout the 5th-last visited commit via:\n",
    "\n"
   ]
  },
  {
   "cell_type": "code",
   "execution_count": null,
   "metadata": {},
   "outputs": [],
   "source": [
    " ! git checkout \"@{5}\"\n"
   ]
  },
  {
   "cell_type": "markdown",
   "metadata": {},
   "source": [
    "\n",
    "See the ``Specifying Revisions'' section of *git help rev-parse* for more.\n",
    "\n",
    "You may wish to configure a longer grace period for doomed commits. For\n",
    "example:\n",
    "\n"
   ]
  },
  {
   "cell_type": "code",
   "execution_count": null,
   "metadata": {},
   "outputs": [],
   "source": [
    "  ! git config gc.pruneexpire \"30 days\"\n"
   ]
  },
  {
   "cell_type": "markdown",
   "metadata": {},
   "source": [
    "\n",
    "means a deleted commit will only be permanently lost once 30 days have passed\n",
    "and *git gc* is run.\n",
    "\n",
    "You may also wish to disable automatic invocations of *git gc*:\n",
    "\n"
   ]
  },
  {
   "cell_type": "code",
   "execution_count": null,
   "metadata": {},
   "outputs": [],
   "source": [
    "  ! git config gc.auto 0\n"
   ]
  },
  {
   "cell_type": "markdown",
   "metadata": {},
   "source": [
    "\n",
    "in which case commits will only be deleted when you run *git gc* manually.\n",
    "\n",
    "### Building On Git \n",
    "\n",
    "In true UNIX fashion, Git's design allows it to be easily used as a low-level component of other programs, such as GUI and web interfaces, alternative command-line interfaces, patch managements tools, importing and conversion tools and so on. In fact, some Git commands are themselves scripts standing on the shoulders of giants. With a little tinkering, you can customize Git to suit your preferences.\n",
    "\n",
    "One easy trick is to use built-in Git aliases to shorten your most frequently\n",
    "used commands:\n",
    "\n"
   ]
  },
  {
   "cell_type": "code",
   "execution_count": null,
   "metadata": {},
   "outputs": [],
   "source": [
    "  ! git config --global alias.co checkout\n",
    "  ! git config --global --get-regexp alias  # display current aliases\n"
   ]
  },
  {
   "cell_type": "markdown",
   "metadata": {},
   "source": [
    "  alias.co checkout\n"
   ]
  },
  {
   "cell_type": "code",
   "execution_count": null,
   "metadata": {},
   "outputs": [],
   "source": [
    "  ! git co foo                              # same as 'git checkout foo'\n"
   ]
  },
  {
   "cell_type": "markdown",
   "metadata": {},
   "source": [
    "\n",
    "Another is to print the current branch in the prompt, or window title.\n",
    "Invoking\n",
    "\n"
   ]
  },
  {
   "cell_type": "code",
   "execution_count": null,
   "metadata": {},
   "outputs": [],
   "source": [
    "  ! git symbolic-ref HEAD\n"
   ]
  },
  {
   "cell_type": "markdown",
   "metadata": {},
   "source": [
    "\n",
    "shows the current branch name. In practice, you most likely want to remove\n",
    "the \"refs/heads/\" and ignore errors:\n",
    "\n"
   ]
  },
  {
   "cell_type": "code",
   "execution_count": null,
   "metadata": {},
   "outputs": [],
   "source": [
    "  ! git symbolic-ref HEAD 2> /dev/null | cut -b 12-\n"
   ]
  },
  {
   "cell_type": "markdown",
   "metadata": {},
   "source": [
    "\n",
    "The +contrib+ subdirectory is a treasure trove of tools built on Git.\n",
    "In time, some of them may be promoted to official commands. On Debian and\n",
    "Ubuntu, this directory lives at +/usr/share/doc/git-core/contrib+.\n",
    "\n",
    "One popular resident is +workdir/git-new-workdir+. Via clever symlinking, this script creates a new working directory whose history is shared with the original repository:\n",
    "\n"
   ]
  },
  {
   "cell_type": "code",
   "execution_count": null,
   "metadata": {},
   "outputs": [],
   "source": [
    "  ! git-new-workdir an/existing/repo new/directory\n"
   ]
  },
  {
   "cell_type": "markdown",
   "metadata": {},
   "source": [
    "\n",
    "The new directory and the files within can be thought of as a clone, except since the history is shared, the two trees automatically stay in sync. There's no need to merge, push, or pull.\n",
    "\n",
    "### Daring Stunts \n",
    "\n",
    "These days, Git makes it difficult for the user to accidentally destroy data.\n",
    "But if you know what you are doing, you can override safeguards for common\n",
    "commands.\n",
    "\n",
    "*Checkout*: Uncommitted changes cause checkout to fail. To destroy your changes, and checkout a given commit anyway, use the force flag:\n",
    "\n"
   ]
  },
  {
   "cell_type": "code",
   "execution_count": null,
   "metadata": {},
   "outputs": [],
   "source": [
    "  ! git checkout -f HEAD^\n"
   ]
  },
  {
   "cell_type": "markdown",
   "metadata": {},
   "source": [
    "\n",
    "On the other hand, if you specify particular paths for checkout, then there are no safety checks. The supplied paths are quietly overwritten. Take care if you use checkout in this manner.\n",
    "\n",
    "*Reset*: Reset also fails in the presence of uncommitted changes. To force it through, run:\n",
    "\n"
   ]
  },
  {
   "cell_type": "code",
   "execution_count": null,
   "metadata": {},
   "outputs": [],
   "source": [
    "  ! git reset --hard 1b6d\n"
   ]
  },
  {
   "cell_type": "markdown",
   "metadata": {},
   "source": [
    "\n",
    "*Branch*: Deleting branches fails if this causes changes to be lost. To force a deletion, type:\n",
    "\n"
   ]
  },
  {
   "cell_type": "code",
   "execution_count": null,
   "metadata": {},
   "outputs": [],
   "source": [
    "  ! git branch -D dead_branch  # instead of -d\n"
   ]
  },
  {
   "cell_type": "markdown",
   "metadata": {},
   "source": [
    "\n",
    "Similarly, attempting to overwrite a branch via a move fails if data loss would ensue. To force a branch move, type:\n",
    "\n"
   ]
  },
  {
   "cell_type": "code",
   "execution_count": null,
   "metadata": {},
   "outputs": [],
   "source": [
    "  ! git branch -M source target  # instead of -m\n"
   ]
  },
  {
   "cell_type": "markdown",
   "metadata": {},
   "source": [
    "\n",
    "Unlike checkout and reset, these two commands defer data destruction. The\n",
    "changes are still stored in the .git subdirectory, and can be retrieved by\n",
    "recovering the appropriate hash from `.git/logs` (see \"HEAD-hunting\" above).\n",
    "By default, they will be kept for at least two weeks.\n",
    "\n",
    "*Clean*: Some git commands refuse to proceed because they're worried about\n",
    "clobbering untracked files. If you're certain that all untracked files and\n",
    "directories are expendable, then delete them mercilessly with:\n",
    "\n"
   ]
  },
  {
   "cell_type": "code",
   "execution_count": null,
   "metadata": {},
   "outputs": [],
   "source": [
    "  ! git clean -f -d\n"
   ]
  },
  {
   "cell_type": "markdown",
   "metadata": {},
   "source": [
    "\n",
    "Next time, that pesky command will work!\n",
    "\n",
    "### Preventing Bad Commits \n",
    "\n",
    "Stupid mistakes pollute my repositories. Most frightening are missing files due\n",
    "to a forgotten *git add*. Lesser transgressions are trailing whitespace and\n",
    "unresolved merge conflicts: though harmless, I wish these never appeared on the\n",
    "public record.\n",
    "\n",
    "If only I had bought idiot insurance by using a _hook_ to alert me about these problems:\n",
    "\n"
   ]
  },
  {
   "cell_type": "code",
   "execution_count": null,
   "metadata": {},
   "outputs": [],
   "source": [
    " ! cd .git/hooks\n",
    " ! cp pre-commit.sample pre-commit  # Older Git versions: chmod +x pre-commit\n"
   ]
  },
  {
   "cell_type": "markdown",
   "metadata": {},
   "source": [
    "\n",
    "Now Git aborts a commit if useless whitespace or unresolved merge conflicts are\n",
    "detected.\n",
    "\n",
    "For this guide, I eventually added the following to the beginning of the\n",
    "*pre-commit* hook to guard against absent-mindedness:\n",
    "\n",
    " if git ls-files -o | grep '\\.txt$'; then\n",
    "   echo FAIL! Untracked .txt files.\n",
    "   exit 1\n",
    " fi\n",
    "\n",
    "Several git operations support hooks; see *git help hooks*. We activated the\n",
    "sample *post-update* hook earlier when discussing Git over HTTP. This runs\n",
    "whenever the head moves. The sample post-update script updates files Git needs\n",
    "for communication over Git-agnostic transports such as HTTP.\n"
   ]
  }
 ],
 "metadata": {
  "kernelspec": {
   "display_name": "Python 3",
   "language": "python",
   "name": "python3"
  }
 },
 "nbformat": 4,
 "nbformat_minor": 4
}
