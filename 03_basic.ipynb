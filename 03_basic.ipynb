{
 "cells": [
  {
   "cell_type": "code",
   "execution_count": null,
   "metadata": {},
   "outputs": [],
   "source": [
    "# default_exp basic"
   ]
  },
  {
   "cell_type": "markdown",
   "metadata": {},
   "source": [
    "# Basic Tricks \n",
    "> Summary"
   ]
  },
  {
   "cell_type": "markdown",
   "metadata": {},
   "source": [
    "Rather than diving into a sea of Git commands, use these elementary examples to\n",
    "get your feet wet. Despite their simplicity, each of them are useful.\n",
    "Indeed, in my first months with Git I never ventured beyond the material in this chapter.\n",
    "\n",
    "### Saving State \n",
    "\n",
    "About to attempt something drastic? Before you do, take a snapshot of all files\n",
    "in the current directory with:"
   ]
  },
  {
   "cell_type": "code",
   "execution_count": null,
   "metadata": {},
   "outputs": [],
   "source": [
    " ! git init\n",
    " ! git add .\n",
    " ! git commit -m \"My first backup\"\n"
   ]
  },
  {
   "cell_type": "markdown",
   "metadata": {},
   "source": [
    "\n",
    "Now if your new edits go awry, restore the pristine version:\n",
    "\n"
   ]
  },
  {
   "cell_type": "code",
   "execution_count": null,
   "metadata": {},
   "outputs": [],
   "source": [
    " ! git reset --hard\n"
   ]
  },
  {
   "cell_type": "markdown",
   "metadata": {},
   "source": [
    "\n",
    "To save the state again:\n",
    "\n"
   ]
  },
  {
   "cell_type": "code",
   "execution_count": null,
   "metadata": {},
   "outputs": [],
   "source": [
    " ! git commit -a -m \"Another backup\"\n"
   ]
  },
  {
   "cell_type": "markdown",
   "metadata": {},
   "source": [
    "\n",
    "### Add, Delete, Rename \n",
    "\n",
    "The above only keeps track of the files that were present when you first ran *git add*. If you add new files or subdirectories, you'll have to tell Git:\n",
    "\n"
   ]
  },
  {
   "cell_type": "code",
   "execution_count": null,
   "metadata": {},
   "outputs": [],
   "source": [
    " ! git add readme.txt Documentation\n"
   ]
  },
  {
   "cell_type": "markdown",
   "metadata": {},
   "source": [
    "\n",
    "Similarly, if you want Git to forget about certain files:\n",
    "\n"
   ]
  },
  {
   "cell_type": "code",
   "execution_count": null,
   "metadata": {},
   "outputs": [],
   "source": [
    " ! git rm kludge.h obsolete.c\n",
    " ! git rm -r incriminating/evidence/\n"
   ]
  },
  {
   "cell_type": "markdown",
   "metadata": {},
   "source": [
    "\n",
    "Git deletes these files for you if you haven't already.\n",
    "\n",
    "Renaming a file is the same as removing the old name and adding the new name. There's also the shortcut *git mv* which has the same syntax as the *mv* command. For example:\n",
    "\n"
   ]
  },
  {
   "cell_type": "code",
   "execution_count": null,
   "metadata": {},
   "outputs": [],
   "source": [
    " ! git mv bug.c feature.c\n"
   ]
  },
  {
   "cell_type": "markdown",
   "metadata": {},
   "source": [
    "\n",
    "### Advanced Undo/Redo \n",
    "\n",
    "Sometimes you just want to go back and forget about every change past a certain point because they're all wrong. Then:\n",
    "\n"
   ]
  },
  {
   "cell_type": "code",
   "execution_count": null,
   "metadata": {},
   "outputs": [],
   "source": [
    " ! git log\n"
   ]
  },
  {
   "cell_type": "markdown",
   "metadata": {},
   "source": [
    "\n",
    "shows you a list of recent commits, and their SHA1 hashes:\n",
    "\n",
    "----------------------------------\n",
    "commit 766f9881690d240ba334153047649b8b8f11c664\n",
    "Author: Bob <bob@example.com>\n",
    "Date:   Tue Mar 14 01:59:26 2000 -0800\n",
    "\n",
    "    Replace printf() with write().\n",
    "\n",
    "commit 82f5ea346a2e651544956a8653c0f58dc151275c\n",
    "Author: Alice <alice@example.com>\n",
    "Date:   Thu Jan 1 00:00:00 1970 +0000\n",
    "\n",
    "    Initial commit.\n",
    "----------------------------------\n",
    "\n",
    "The first few characters of the hash are enough to specify the commit;\n",
    "alternatively, copy and paste the entire hash. Type:\n",
    "\n"
   ]
  },
  {
   "cell_type": "code",
   "execution_count": null,
   "metadata": {},
   "outputs": [],
   "source": [
    " ! git reset --hard 766f\n"
   ]
  },
  {
   "cell_type": "markdown",
   "metadata": {},
   "source": [
    "\n",
    "to restore the state to a given commit and erase all newer commits from the record permanently.\n",
    "\n",
    "Other times you want to hop to an old state briefly. In this case, type:\n",
    "\n"
   ]
  },
  {
   "cell_type": "code",
   "execution_count": null,
   "metadata": {},
   "outputs": [],
   "source": [
    " ! git checkout 82f5\n"
   ]
  },
  {
   "cell_type": "markdown",
   "metadata": {},
   "source": [
    "\n",
    "This takes you back in time, while preserving newer commits. However, like time travel in a science-fiction movie, if you now edit and commit, you will be in an alternate reality, because your actions are different to what they were the first time around.\n",
    "\n",
    "This alternate reality is called a 'branch', and <<branch,we'll have more to say about this later>>. For now, just remember that\n",
    "\n"
   ]
  },
  {
   "cell_type": "code",
   "execution_count": null,
   "metadata": {},
   "outputs": [],
   "source": [
    " ! git checkout master\n"
   ]
  },
  {
   "cell_type": "markdown",
   "metadata": {},
   "source": [
    "\n",
    "will take you back to the present. Also, to stop Git complaining, always\n",
    "commit or reset your changes before running checkout.\n",
    "\n",
    "To take the computer game analogy again:\n",
    "\n",
    "- *`git reset --hard`*: load an old save and delete all saved games newer than the one just loaded.\n",
    "\n",
    "- *`git checkout`*: load an old game, but if you play on, the game state will deviate from the newer saves you made the first time around. Any saved games you make now will end up in a separate branch representing the alternate reality you have entered. <<branch,We deal with this later>>.\n",
    "\n",
    "You can choose only to restore particular files and subdirectories by appending them after the command:\n",
    "\n"
   ]
  },
  {
   "cell_type": "code",
   "execution_count": null,
   "metadata": {},
   "outputs": [],
   "source": [
    " ! git checkout 82f5 some.file another.file\n"
   ]
  },
  {
   "cell_type": "markdown",
   "metadata": {},
   "source": [
    "\n",
    "Take care, as this form of *checkout* can silently overwrite files. To\n",
    "prevent accidents, commit before running any checkout command, especially when\n",
    "first learning Git. In general, whenever you feel unsure about any operation, Git command or not, first run *git commit -a*.\n",
    "\n",
    "Don't like cutting and pasting hashes? Then use:\n",
    "\n"
   ]
  },
  {
   "cell_type": "code",
   "execution_count": null,
   "metadata": {},
   "outputs": [],
   "source": [
    " ! git checkout :/\"My first b\"\n"
   ]
  },
  {
   "cell_type": "markdown",
   "metadata": {},
   "source": [
    "\n",
    "to jump to the commit that starts with a given message.\n",
    "You can also ask for the 5th-last saved state:\n",
    "\n"
   ]
  },
  {
   "cell_type": "code",
   "execution_count": null,
   "metadata": {},
   "outputs": [],
   "source": [
    " ! git checkout master~5\n"
   ]
  },
  {
   "cell_type": "markdown",
   "metadata": {},
   "source": [
    "\n",
    "### Reverting \n",
    "\n",
    "In a court of law, events can be stricken from the record. Likewise, you can pick specific commits to undo.\n",
    "\n"
   ]
  },
  {
   "cell_type": "code",
   "execution_count": null,
   "metadata": {},
   "outputs": [],
   "source": [
    " ! git commit -a\n",
    " ! git revert 1b6d\n"
   ]
  },
  {
   "cell_type": "markdown",
   "metadata": {},
   "source": [
    "\n",
    "will undo just the commit with the given hash. The revert is recorded as a new\n",
    "commit, which you can confirm by running *git log*.\n",
    "\n",
    "### Changelog Generation \n",
    "\n",
    "Some projects require a http://en.wikipedia.org/wiki/Changelog[changelog].\n",
    "Generate one by typing:\n",
    "\n"
   ]
  },
  {
   "cell_type": "code",
   "execution_count": null,
   "metadata": {},
   "outputs": [],
   "source": [
    " ! git log > ChangeLog\n"
   ]
  },
  {
   "cell_type": "markdown",
   "metadata": {},
   "source": [
    "\n",
    "### Downloading Files \n",
    "\n",
    "Get a copy of a project managed with Git by typing:\n",
    "\n"
   ]
  },
  {
   "cell_type": "code",
   "execution_count": null,
   "metadata": {},
   "outputs": [],
   "source": [
    " ! git clone git://server/path/to/files\n"
   ]
  },
  {
   "cell_type": "markdown",
   "metadata": {},
   "source": [
    "\n",
    "For example, to get all the files I used to create this site:\n",
    "\n"
   ]
  },
  {
   "cell_type": "code",
   "execution_count": null,
   "metadata": {},
   "outputs": [],
   "source": [
    " ! git clone git://git.or.cz/gitmagic.git\n"
   ]
  },
  {
   "cell_type": "markdown",
   "metadata": {},
   "source": [
    "\n",
    "We'll have much to say about the *clone* command soon.\n",
    "\n",
    "### The Bleeding Edge \n",
    "\n",
    "If you've already downloaded a copy of a project using *git clone*, you can upgrade to the latest version with:\n",
    "\n"
   ]
  },
  {
   "cell_type": "code",
   "execution_count": null,
   "metadata": {},
   "outputs": [],
   "source": [
    " ! git pull\n"
   ]
  },
  {
   "cell_type": "markdown",
   "metadata": {},
   "source": [
    "\n",
    "### Instant Publishing \n",
    "\n",
    "Suppose you've written a script you'd like to share with others. You could just tell them to download from your computer, but if they do so while you're improving the script or making experimental changes, they could wind up in trouble.  Of course, this is why release cycles exist. Developers may work on a project frequently, but they only make the code available when they feel it is presentable.\n",
    "\n",
    "To do this with Git, in the directory where your script resides:\n",
    "\n"
   ]
  },
  {
   "cell_type": "code",
   "execution_count": null,
   "metadata": {},
   "outputs": [],
   "source": [
    " ! git init\n",
    " ! git add .\n",
    " ! git commit -m \"First release\"\n"
   ]
  },
  {
   "cell_type": "markdown",
   "metadata": {},
   "source": [
    "\n",
    "Then tell your users to run:\n",
    "\n"
   ]
  },
  {
   "cell_type": "code",
   "execution_count": null,
   "metadata": {},
   "outputs": [],
   "source": [
    " ! git clone your.computer:/path/to/script\n"
   ]
  },
  {
   "cell_type": "markdown",
   "metadata": {},
   "source": [
    "\n",
    "to download your script. This assumes they have ssh access. If not, run *git daemon* and tell your users to instead run:\n",
    "\n"
   ]
  },
  {
   "cell_type": "code",
   "execution_count": null,
   "metadata": {},
   "outputs": [],
   "source": [
    " ! git clone git://your.computer/path/to/script\n"
   ]
  },
  {
   "cell_type": "markdown",
   "metadata": {},
   "source": [
    "\n",
    "From now on, every time your script is ready for release, execute:\n",
    "\n"
   ]
  },
  {
   "cell_type": "code",
   "execution_count": null,
   "metadata": {},
   "outputs": [],
   "source": [
    " ! git commit -a -m \"Next release\"\n"
   ]
  },
  {
   "cell_type": "markdown",
   "metadata": {},
   "source": [
    "\n",
    "and your users can upgrade their version by changing to the directory containing your script and typing:\n",
    "\n"
   ]
  },
  {
   "cell_type": "code",
   "execution_count": null,
   "metadata": {},
   "outputs": [],
   "source": [
    " ! git pull\n"
   ]
  },
  {
   "cell_type": "markdown",
   "metadata": {},
   "source": [
    "\n",
    "Your users will never end up with a version of your script you don't want them to see.\n",
    "\n",
    "### What Have I Done? \n",
    "\n",
    "Find out what changes you've made since the last commit with:\n",
    "\n"
   ]
  },
  {
   "cell_type": "code",
   "execution_count": null,
   "metadata": {},
   "outputs": [],
   "source": [
    " ! git diff\n"
   ]
  },
  {
   "cell_type": "markdown",
   "metadata": {},
   "source": [
    "\n",
    "Or since yesterday:\n",
    "\n"
   ]
  },
  {
   "cell_type": "code",
   "execution_count": null,
   "metadata": {},
   "outputs": [],
   "source": [
    " ! git diff \"@{yesterday}\"\n"
   ]
  },
  {
   "cell_type": "markdown",
   "metadata": {},
   "source": [
    "\n",
    "Or between a particular version and 2 versions ago:\n",
    "\n"
   ]
  },
  {
   "cell_type": "code",
   "execution_count": null,
   "metadata": {},
   "outputs": [],
   "source": [
    " ! git diff 1b6d \"master~2\"\n"
   ]
  },
  {
   "cell_type": "markdown",
   "metadata": {},
   "source": [
    "\n",
    "In each case the output is a patch that can be applied with *git apply*.\n",
    "Try also:\n",
    "\n"
   ]
  },
  {
   "cell_type": "code",
   "execution_count": null,
   "metadata": {},
   "outputs": [],
   "source": [
    " ! git whatchanged --since=\"2 weeks ago\"\n"
   ]
  },
  {
   "cell_type": "markdown",
   "metadata": {},
   "source": [
    "\n",
    "Often I'll browse history with http://sourceforge.net/projects/qgit[qgit] instead, due to its slick photogenic interface, or http://jonas.nitro.dk/tig/[tig], a text-mode interface that works well over slow connections. Alternatively, install a web server, run *git instaweb* and fire up any web browser.\n",
    "\n",
    "### Exercise \n",
    "\n",
    "Let A, B, C, D be four successive commits where B is the same as A except some files have been removed. We want to add the files back at D. How can we do this?\n",
    "\n",
    "There are at least three solutions. Assuming we are at D:\n",
    "\n",
    "  1. The difference between A and B are the removed files. We can create a patch representing this difference and apply it:\n",
    "\n"
   ]
  },
  {
   "cell_type": "code",
   "execution_count": null,
   "metadata": {},
   "outputs": [],
   "source": [
    "   ! git diff B A | git apply\n"
   ]
  },
  {
   "cell_type": "markdown",
   "metadata": {},
   "source": [
    "\n",
    "  2. Since we saved the files back at A, we can retrieve them:\n",
    "\n"
   ]
  },
  {
   "cell_type": "code",
   "execution_count": null,
   "metadata": {},
   "outputs": [],
   "source": [
    "   ! git checkout A foo.c bar.h\n"
   ]
  },
  {
   "cell_type": "markdown",
   "metadata": {},
   "source": [
    "\n",
    "  3. We can view going from A to B as a change we want to undo:\n",
    "\n"
   ]
  },
  {
   "cell_type": "code",
   "execution_count": null,
   "metadata": {},
   "outputs": [],
   "source": [
    "   ! git revert B\n"
   ]
  },
  {
   "cell_type": "markdown",
   "metadata": {},
   "source": [
    "\n",
    "Which choice is best? Whichever you prefer most. It is easy to get what you want with Git, and often there are many ways to get it.\n"
   ]
  }
 ],
 "metadata": {
  "kernelspec": {
   "display_name": "Python 3",
   "language": "python",
   "name": "python3"
  }
 },
 "nbformat": 4,
 "nbformat_minor": 4
}
