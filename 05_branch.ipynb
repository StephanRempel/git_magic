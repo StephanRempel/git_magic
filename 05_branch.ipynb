{
 "cells": [
  {
   "cell_type": "code",
   "execution_count": null,
   "metadata": {},
   "outputs": [],
   "source": [
    "# default_exp branch"
   ]
  },
  {
   "cell_type": "markdown",
   "metadata": {},
   "source": [
    "# Branch Wizardry \n",
    "> Summary"
   ]
  },
  {
   "cell_type": "markdown",
   "metadata": {},
   "source": [
    "Instant branching and merging are the most lethal of Git's killer features.\n",
    "\n",
    "*Problem*: External factors inevitably necessitate context switching. A severe\n",
    "bug manifests in the released version without warning. The deadline for a\n",
    "certain feature is moved closer. A developer whose help you need for a key section of the project is about to leave. In all cases, you must abruptly drop what you are doing and focus on a completely different task.\n",
    "\n",
    "Interrupting your train of thought can be detrimental to your productivity, and the more cumbersome it is to switch contexts, the greater the loss. With centralized version control we must download a fresh working copy from the central server. Distributed systems fare better, as we can clone the desired version locally.\n",
    "\n",
    "But cloning still entails copying the whole working directory as well as the entire history up to the given point. Even though Git reduces the cost of this with file sharing and hard links, the project files themselves must be recreated in their entirety in the new working directory.\n",
    "\n",
    "*Solution*: Git has a better tool for these situations that is much faster and more space-efficient than cloning: *git branch*.\n",
    "\n",
    "With this magic word, the files in your directory suddenly shapeshift from one version to another. This transformation can do more than merely go back or forward in history. Your files can morph from the last release to the experimental version to the current development version to your friend's version and so on.\n",
    "\n",
    "### The Boss Key \n",
    "\n",
    "Ever played one of those games where at the push of a button (``the boss key''), the screen would instantly display a spreadsheet or something? So if the boss walked in the office while you were playing the game you could quickly hide it away?\n",
    "\n",
    "In some directory:"
   ]
  },
  {
   "cell_type": "code",
   "execution_count": null,
   "metadata": {},
   "outputs": [],
   "source": [
    " ! echo \"I'm smarter than my boss\" > myfile.txt\n",
    " ! git init\n",
    " ! git add .\n",
    " ! git commit -m \"Initial commit\"\n"
   ]
  },
  {
   "cell_type": "markdown",
   "metadata": {},
   "source": [
    "\n",
    "We have created a Git repository that tracks one text file containing a certain message. Now type:\n",
    "\n"
   ]
  },
  {
   "cell_type": "code",
   "execution_count": null,
   "metadata": {},
   "outputs": [],
   "source": [
    " ! git checkout -b boss  # nothing seems to change after this\n",
    " ! echo \"My boss is smarter than me\" > myfile.txt\n",
    " ! git commit -a -m \"Another commit\"\n"
   ]
  },
  {
   "cell_type": "markdown",
   "metadata": {},
   "source": [
    "\n",
    "It looks like we've just overwritten our file and committed it. But it's an illusion. Type:\n",
    "\n"
   ]
  },
  {
   "cell_type": "code",
   "execution_count": null,
   "metadata": {},
   "outputs": [],
   "source": [
    " ! git checkout master  # switch to original version of the file\n"
   ]
  },
  {
   "cell_type": "markdown",
   "metadata": {},
   "source": [
    "\n",
    "and hey presto! The text file is restored. And if the boss decides to snoop around this directory, type:\n",
    "\n"
   ]
  },
  {
   "cell_type": "code",
   "execution_count": null,
   "metadata": {},
   "outputs": [],
   "source": [
    " ! git checkout boss  # switch to version suitable for boss' eyes\n"
   ]
  },
  {
   "cell_type": "markdown",
   "metadata": {},
   "source": [
    "\n",
    "You can switch between the two versions of the file as much as you like, and commit to each independently.\n",
    "\n",
    "### Dirty Work \n",
    "\n",
    "[[branch]]\n",
    "Say you're working on some feature, and for some reason, you need to go back three versions and temporarily put in a few print statements to see how something works. Then:\n",
    "\n"
   ]
  },
  {
   "cell_type": "code",
   "execution_count": null,
   "metadata": {},
   "outputs": [],
   "source": [
    " ! git commit -a\n",
    " ! git checkout HEAD~3\n"
   ]
  },
  {
   "cell_type": "markdown",
   "metadata": {},
   "source": [
    "\n",
    "Now you can add ugly temporary code all over the place. You can even commit these changes. When you're done,\n",
    "\n"
   ]
  },
  {
   "cell_type": "code",
   "execution_count": null,
   "metadata": {},
   "outputs": [],
   "source": [
    " ! git checkout master\n"
   ]
  },
  {
   "cell_type": "markdown",
   "metadata": {},
   "source": [
    "\n",
    "to return to your original work. Observe that any uncommitted changes are carried over.\n",
    "\n",
    "What if you wanted to save the temporary changes after all? Easy:\n",
    "\n"
   ]
  },
  {
   "cell_type": "code",
   "execution_count": null,
   "metadata": {},
   "outputs": [],
   "source": [
    " ! git checkout -b dirty\n"
   ]
  },
  {
   "cell_type": "markdown",
   "metadata": {},
   "source": [
    "\n",
    "and commit before switching back to the master branch. Whenever you want to return to the dirty changes, simply type:\n",
    "\n"
   ]
  },
  {
   "cell_type": "code",
   "execution_count": null,
   "metadata": {},
   "outputs": [],
   "source": [
    " ! git checkout dirty\n"
   ]
  },
  {
   "cell_type": "markdown",
   "metadata": {},
   "source": [
    "\n",
    "We touched upon this command in an earlier chapter, when discussing loading old states. At last we can tell the whole story: the files change to the requested state, but we must leave the master branch. Any commits made from now on take your files down a different road, which can be named later.\n",
    "\n",
    "In other words, after checking out an old state, Git automatically puts you in a new, unnamed branch, which can be named and saved with *git checkout -b*.\n",
    "\n",
    "### Quick Fixes \n",
    "\n",
    "You're in the middle of something when you are told to drop everything and fix a newly discovered bug in commit `1b6d...`:\n",
    "\n"
   ]
  },
  {
   "cell_type": "code",
   "execution_count": null,
   "metadata": {},
   "outputs": [],
   "source": [
    " ! git commit -a\n",
    " ! git checkout -b fixes 1b6d\n"
   ]
  },
  {
   "cell_type": "markdown",
   "metadata": {},
   "source": [
    "\n",
    "Then once you've fixed the bug:\n",
    "\n"
   ]
  },
  {
   "cell_type": "code",
   "execution_count": null,
   "metadata": {},
   "outputs": [],
   "source": [
    " ! git commit -a -m \"Bug fixed\"\n",
    " ! git checkout master\n"
   ]
  },
  {
   "cell_type": "markdown",
   "metadata": {},
   "source": [
    "\n",
    "and resume work on your original task. You can even 'merge' in the freshly\n",
    "baked bugfix:\n",
    "\n"
   ]
  },
  {
   "cell_type": "code",
   "execution_count": null,
   "metadata": {},
   "outputs": [],
   "source": [
    " ! git merge fixes\n"
   ]
  },
  {
   "cell_type": "markdown",
   "metadata": {},
   "source": [
    "\n",
    "### Merging \n",
    "\n",
    "With some version control systems, creating branches is easy but merging them\n",
    "back together is tough. With Git, merging is so trivial that you might be\n",
    "unaware of it happening.\n",
    "\n",
    "We actually encountered merging long ago. The *pull* command in fact 'fetches'\n",
    "commits and then merges them into your current branch. If you have no local\n",
    "changes, then the merge is a 'fast forward', a degenerate case akin to fetching\n",
    "the latest version in a centralized version control system. But if you do have\n",
    "local changes, Git will automatically merge, and report any conflicts.\n",
    "\n",
    "Ordinarily, a commit has exactly one 'parent commit', namely, the previous\n",
    "commit. Merging branches together produces a commit with at least two parents.\n",
    "This begs the question: what commit does `HEAD~10` really refer to? A commit\n",
    "could have multiple parents, so which one do we follow?\n",
    "\n",
    "It turns out this notation chooses the first parent every time. This is\n",
    "desirable because the current branch becomes the first parent during a merge;\n",
    "frequently you're only concerned with the changes you made in the current\n",
    "branch, as opposed to changes merged in from other branches.\n",
    "\n",
    "You can refer to a specific parent with a caret. For example, to show\n",
    "the logs from the second parent:\n",
    "\n"
   ]
  },
  {
   "cell_type": "code",
   "execution_count": null,
   "metadata": {},
   "outputs": [],
   "source": [
    " ! git log HEAD^2\n"
   ]
  },
  {
   "cell_type": "markdown",
   "metadata": {},
   "source": [
    "\n",
    "You may omit the number for the first parent. For example, to show the\n",
    "differences with the first parent:\n",
    "\n"
   ]
  },
  {
   "cell_type": "code",
   "execution_count": null,
   "metadata": {},
   "outputs": [],
   "source": [
    " ! git diff HEAD^\n"
   ]
  },
  {
   "cell_type": "markdown",
   "metadata": {},
   "source": [
    "\n",
    "You can combine this notation with other types. For example:\n",
    "\n"
   ]
  },
  {
   "cell_type": "code",
   "execution_count": null,
   "metadata": {},
   "outputs": [],
   "source": [
    " ! git checkout 1b6d^^2~10 -b ancient\n"
   ]
  },
  {
   "cell_type": "markdown",
   "metadata": {},
   "source": [
    "\n",
    "starts a new branch ``ancient'' representing the state 10 commits back from the\n",
    "second parent of the first parent of the commit starting with 1b6d.\n",
    "\n",
    "### Uninterrupted Workflow \n",
    "\n",
    "Often in hardware projects, the second step of a plan must await the completion of the first step. A car undergoing repairs might sit idly in a garage until a particular part arrives from the factory. A prototype might wait for a chip to be fabricated before construction can continue.\n",
    "\n",
    "Software projects can be similar. The second part of a new feature may have to\n",
    "wait until the first part has been released and tested. Some projects require\n",
    "your code to be reviewed before accepting it, so you might wait until the first\n",
    "part is approved before starting the second part.\n",
    "\n",
    "Thanks to painless branching and merging, we can bend the rules and work on\n",
    "Part II before Part I is officially ready. Suppose you have committed Part I\n",
    "and sent it for review. Let's say you're in the `master` branch. Then branch\n",
    "off:\n",
    "\n"
   ]
  },
  {
   "cell_type": "code",
   "execution_count": null,
   "metadata": {},
   "outputs": [],
   "source": [
    " ! git checkout -b part2\n"
   ]
  },
  {
   "cell_type": "markdown",
   "metadata": {},
   "source": [
    "\n",
    "Next, work on Part II, committing your changes along the way. To err is human,\n",
    "and often you'll want to go back and fix something in Part I.\n",
    "If you're lucky, or very good, you can skip these lines.\n",
    "\n"
   ]
  },
  {
   "cell_type": "code",
   "execution_count": null,
   "metadata": {},
   "outputs": [],
   "source": [
    " ! git checkout master  # Go back to Part I.\n",
    " ! fix_problem\n",
    " ! git commit -a        # Commit the fixes.\n",
    " ! git checkout part2   # Go back to Part II.\n",
    " ! git merge master     # Merge in those fixes.\n"
   ]
  },
  {
   "cell_type": "markdown",
   "metadata": {},
   "source": [
    "\n",
    "Eventually, Part I is approved:\n",
    "\n"
   ]
  },
  {
   "cell_type": "code",
   "execution_count": null,
   "metadata": {},
   "outputs": [],
   "source": [
    " ! git checkout master  # Go back to Part I.\n",
    " ! submit files         # Release to the world!\n",
    " ! git merge part2      # Merge in Part II.\n",
    " ! git branch -d part2  # Delete \"part2\" branch.\n"
   ]
  },
  {
   "cell_type": "markdown",
   "metadata": {},
   "source": [
    "\n",
    "Now you're in the `master` branch again, with Part II in the working directory.\n",
    "\n",
    "It's easy to extend this trick for any number of parts. It's also easy to\n",
    "branch off retroactively: suppose you belatedly realize you should have created\n",
    "a branch 7 commits ago. Then type:\n",
    "\n"
   ]
  },
  {
   "cell_type": "code",
   "execution_count": null,
   "metadata": {},
   "outputs": [],
   "source": [
    " ! git branch -m master part2  # Rename \"master\" branch to \"part2\".\n",
    " ! git branch master HEAD~7    # Create new \"master\", 7 commits upstream.\n"
   ]
  },
  {
   "cell_type": "markdown",
   "metadata": {},
   "source": [
    "\n",
    "The `master` branch now contains just Part I, and the `part2` branch contains\n",
    "the rest. We are in the latter branch; we created `master` without switching to\n",
    "it, because we want to continue work on `part2`. This is unusual. Until now,\n",
    "we've been switching to branches immediately after creation, as in:\n",
    "\n"
   ]
  },
  {
   "cell_type": "code",
   "execution_count": null,
   "metadata": {},
   "outputs": [],
   "source": [
    " ! git checkout HEAD~7 -b master  # Create a branch, and switch to it.\n"
   ]
  },
  {
   "cell_type": "markdown",
   "metadata": {},
   "source": [
    "\n",
    "### Reorganizing a Medley \n",
    "\n",
    "Perhaps you like to work on all aspects of a project in the same branch. You want to keep works-in-progress to yourself and want others to see your commits only when they have been neatly organized. Start a couple of branches:\n",
    "\n"
   ]
  },
  {
   "cell_type": "code",
   "execution_count": null,
   "metadata": {},
   "outputs": [],
   "source": [
    "  ! git branch sanitized    # Create a branch for sanitized commits.\n",
    "  ! git checkout -b medley  # Create and switch to a branch to work in.\n"
   ]
  },
  {
   "cell_type": "markdown",
   "metadata": {},
   "source": [
    "\n",
    "Next, work on anything: fix bugs, add features, add temporary code, and so forth, committing often along the way. Then:\n",
    "\n"
   ]
  },
  {
   "cell_type": "code",
   "execution_count": null,
   "metadata": {},
   "outputs": [],
   "source": [
    "  ! git checkout sanitized\n",
    "  ! git cherry-pick medley^^\n"
   ]
  },
  {
   "cell_type": "markdown",
   "metadata": {},
   "source": [
    "\n",
    "applies the grandparent of the head commit of the ``medley'' branch to the ``sanitized'' branch. With appropriate cherry-picks you can construct a branch that contains only permanent code, and has related commits grouped together.\n",
    "\n",
    "### Managing Branches \n",
    "\n",
    "List all branches by typing:\n",
    "\n"
   ]
  },
  {
   "cell_type": "code",
   "execution_count": null,
   "metadata": {},
   "outputs": [],
   "source": [
    " ! git branch\n"
   ]
  },
  {
   "cell_type": "markdown",
   "metadata": {},
   "source": [
    "\n",
    "By default, you start in a branch named ``master''. Some advocate leaving the\n",
    "``master'' branch untouched and creating new branches for your own edits.\n",
    "\n",
    "The *-d* and *-m* options allow you to delete and move (rename) branches.\n",
    "See *git help branch*.\n",
    "\n",
    "The ``master'' branch is a useful custom. Others may assume that your\n",
    "repository has a branch with this name, and that it contains the official\n",
    "version of your project. Although you can rename or obliterate the ``master''\n",
    "branch, you might as well respect this convention.\n",
    "\n",
    "### Temporary Branches \n",
    "\n",
    "After a while you may realize you are creating short-lived branches\n",
    "frequently for similar reasons: every other branch merely serves to\n",
    "save the current state so you can briefly hop back to an older state to\n",
    "fix a high-priority bug or something.\n",
    "\n",
    "It's analogous to changing the TV channel temporarily to see what else is on.\n",
    "But instead of pushing a couple of buttons, you have to create, check out,\n",
    "merge, and delete temporary branches. Luckily, Git has a shortcut that is as\n",
    "convenient as a TV remote control:\n",
    "\n"
   ]
  },
  {
   "cell_type": "code",
   "execution_count": null,
   "metadata": {},
   "outputs": [],
   "source": [
    " ! git stash\n"
   ]
  },
  {
   "cell_type": "markdown",
   "metadata": {},
   "source": [
    "\n",
    "This saves the current state in a temporary location (a 'stash') and\n",
    "restores the previous state. Your working directory appears exactly as it was\n",
    "before you started editing, and you can fix bugs, pull in upstream changes, and\n",
    "so on. When you want to go back to the stashed state, type:\n",
    "\n"
   ]
  },
  {
   "cell_type": "code",
   "execution_count": null,
   "metadata": {},
   "outputs": [],
   "source": [
    " ! git stash apply  # You may need to resolve some conflicts.\n"
   ]
  },
  {
   "cell_type": "markdown",
   "metadata": {},
   "source": [
    "\n",
    "You can have multiple stashes, and manipulate them in various ways. See\n",
    "*git help stash*. As you may have guessed, Git maintains branches behind the scenes to perform this magic trick.\n",
    "\n",
    "### Work How You Want \n",
    "\n",
    "You might wonder if branches are worth the bother. After all, clones are almost\n",
    "as fast, and you can switch between them with *cd* instead of esoteric Git\n",
    "commands.\n",
    "\n",
    "Consider web browsers. Why support multiple tabs as well as multiple windows?\n",
    "Because allowing both accommodates a wide variety of styles. Some users like to\n",
    "keep only one browser window open, and use tabs for multiple webpages. Others\n",
    "might insist on the other extreme: multiple windows with no tabs anywhere.\n",
    "Others still prefer something in between.\n",
    "\n",
    "Branching is like tabs for your working directory, and cloning is like opening\n",
    "a new browser window. These operations are fast and local, so why not\n",
    "experiment to find the combination that best suits you? Git lets you work\n",
    "exactly how you want.\n"
   ]
  }
 ],
 "metadata": {
  "kernelspec": {
   "display_name": "Python 3",
   "language": "python",
   "name": "python3"
  }
 },
 "nbformat": 4,
 "nbformat_minor": 4
}
