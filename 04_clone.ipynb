{
 "cells": [
  {
   "cell_type": "code",
   "execution_count": null,
   "metadata": {},
   "outputs": [],
   "source": [
    "# default_exp clone"
   ]
  },
  {
   "cell_type": "markdown",
   "metadata": {},
   "source": [
    "# Cloning Around \n",
    "> Summary"
   ]
  },
  {
   "cell_type": "markdown",
   "metadata": {},
   "source": [
    "In older version control systems, checkout is the standard operation to get files. You retrieve a bunch of files in a particular saved state.\n",
    "\n",
    "In Git and other distributed version control systems, cloning is the standard operation. To get files, you create a 'clone' of the entire repository. In other words, you practically mirror the central server. Anything the main repository can do, you can do.\n",
    "\n",
    "### Sync Computers \n",
    "\n",
    "I can tolerate making tarballs or using *rsync* for backups and basic syncing. But sometimes I edit on my laptop, other times on my desktop, and the two may not have talked to each other in between.\n",
    "\n",
    "Initialize a Git repository and commit your files on one machine. Then on the other:"
   ]
  },
  {
   "cell_type": "code",
   "execution_count": null,
   "metadata": {},
   "outputs": [],
   "source": [
    " ! git clone other.computer:/path/to/files\n"
   ]
  },
  {
   "cell_type": "markdown",
   "metadata": {},
   "source": [
    "\n",
    "to create a second copy of the files and Git repository. From now on,\n",
    "\n"
   ]
  },
  {
   "cell_type": "code",
   "execution_count": null,
   "metadata": {},
   "outputs": [],
   "source": [
    " ! git commit -a\n",
    " ! git pull other.computer:/path/to/files HEAD\n"
   ]
  },
  {
   "cell_type": "markdown",
   "metadata": {},
   "source": [
    "\n",
    "will 'pull' in the state of the files on the other computer into the one you're working on. If you've recently made conflicting edits in the same file, Git will let you know and you should commit again after resolving them.\n",
    "\n",
    "### Classic Source Control \n",
    "\n",
    "Initialize a Git repository for your files:\n",
    "\n"
   ]
  },
  {
   "cell_type": "code",
   "execution_count": null,
   "metadata": {},
   "outputs": [],
   "source": [
    " ! git init\n",
    " ! git add .\n",
    " ! git commit -m \"Initial commit\"\n"
   ]
  },
  {
   "cell_type": "markdown",
   "metadata": {},
   "source": [
    "\n",
    "On the central server, initialize a 'bare repository' in some directory:\n",
    "\n"
   ]
  },
  {
   "cell_type": "code",
   "execution_count": null,
   "metadata": {},
   "outputs": [],
   "source": [
    " ! mkdir proj.git\n",
    " ! cd proj.git\n",
    " ! git --bare init\n",
    " ! touch proj.git/git-daemon-export-ok\n"
   ]
  },
  {
   "cell_type": "markdown",
   "metadata": {},
   "source": [
    "\n",
    "Start the Git daemon if necessary:\n",
    "\n"
   ]
  },
  {
   "cell_type": "code",
   "execution_count": null,
   "metadata": {},
   "outputs": [],
   "source": [
    " ! git daemon --detach  # it may already be running\n"
   ]
  },
  {
   "cell_type": "markdown",
   "metadata": {},
   "source": [
    "\n",
    "For Git hosting services, follow the instructions to setup the initially\n",
    "empty Git repository. Typically one fills in a form on a webpage.\n",
    "\n",
    "'Push' your project to the central server with:\n",
    "\n"
   ]
  },
  {
   "cell_type": "code",
   "execution_count": null,
   "metadata": {},
   "outputs": [],
   "source": [
    " ! git push central.server/path/to/proj.git HEAD\n"
   ]
  },
  {
   "cell_type": "markdown",
   "metadata": {},
   "source": [
    "\n",
    "To check out the source, a developer types:\n",
    "\n"
   ]
  },
  {
   "cell_type": "code",
   "execution_count": null,
   "metadata": {},
   "outputs": [],
   "source": [
    " ! git clone central.server/path/to/proj.git\n"
   ]
  },
  {
   "cell_type": "markdown",
   "metadata": {},
   "source": [
    "\n",
    "After making changes, the developer saves changes locally:\n",
    "\n"
   ]
  },
  {
   "cell_type": "code",
   "execution_count": null,
   "metadata": {},
   "outputs": [],
   "source": [
    " ! git commit -a\n"
   ]
  },
  {
   "cell_type": "markdown",
   "metadata": {},
   "source": [
    "\n",
    "To update to the latest version:\n",
    "\n"
   ]
  },
  {
   "cell_type": "code",
   "execution_count": null,
   "metadata": {},
   "outputs": [],
   "source": [
    " ! git pull\n"
   ]
  },
  {
   "cell_type": "markdown",
   "metadata": {},
   "source": [
    "\n",
    "Any merge conflicts should be resolved then committed:\n",
    "\n"
   ]
  },
  {
   "cell_type": "code",
   "execution_count": null,
   "metadata": {},
   "outputs": [],
   "source": [
    " ! git commit -a\n"
   ]
  },
  {
   "cell_type": "markdown",
   "metadata": {},
   "source": [
    "\n",
    "To check in local changes into the central repository:\n",
    "\n"
   ]
  },
  {
   "cell_type": "code",
   "execution_count": null,
   "metadata": {},
   "outputs": [],
   "source": [
    " ! git push\n"
   ]
  },
  {
   "cell_type": "markdown",
   "metadata": {},
   "source": [
    "\n",
    "If the main server has new changes due to activity by other developers, the\n",
    "push fails, and the developer should pull the latest version, resolve any merge conflicts, then try again.\n",
    "\n",
    "Developers must have SSH access for the above pull and push commands.\n",
    "However, anyone can see the source by typing:\n",
    "\n"
   ]
  },
  {
   "cell_type": "code",
   "execution_count": null,
   "metadata": {},
   "outputs": [],
   "source": [
    " ! git clone git://central.server/path/to/proj.git\n"
   ]
  },
  {
   "cell_type": "markdown",
   "metadata": {},
   "source": [
    "\n",
    "The native git protocol is like HTTP: there is no authentication, so anyone can\n",
    "retrieve the project. Accordingly, by default, pushing is forbidden via the git\n",
    "protocol.\n",
    "\n",
    "### Secret Source \n",
    "\n",
    "For a closed-source project, omit the touch command, and ensure you never\n",
    "create a file named `git-daemon-export-ok`. The repository can no longer be\n",
    "retrieved via the git protocol; only those with SSH access can see it. If all\n",
    "your repos are closed, running the git daemon is unnecessary because all\n",
    "communication occurs via SSH.\n",
    "\n",
    "### Bare repositories \n",
    "\n",
    "A bare repository is so named because it has no working directory; it only contains files that are normally hidden away in the `.git` subdirectory. In other words, it maintains the history of a project, and never holds a snapshot of any given version.\n",
    "\n",
    "A bare repository plays a role similar to that of the main server in a\n",
    "centralized version control system: the home of your project. Developers clone\n",
    "your project from it, and push the latest official changes to it. Typically it\n",
    "resides on a server that does little else but disseminate data. Development\n",
    "occurs in the clones, so the home repository can do without a working\n",
    "directory.\n",
    "\n",
    "Many Git commands fail on bare repositories unless the `GIT_DIR` environment variable is set to the repository path, or the `--bare` option is supplied.\n",
    "\n",
    "### Push versus pull \n",
    "\n",
    "Why did we introduce the push command, rather than rely on the familiar pull\n",
    "command? Firstly, pulling fails on bare repositories: instead you must 'fetch',\n",
    "a command we later discuss. But even if we kept a normal repository on the\n",
    "central server, pulling into it would still be cumbersome. We would have to\n",
    "login to the server first, and give the pull command the network address of the\n",
    "machine we're pulling from. Firewalls may interfere, and what if we have no\n",
    "shell access to the server in the first place?\n",
    "\n",
    "However, apart from this case, we discourage pushing into a repository, because confusion can ensue when the destination has a working directory.\n",
    "\n",
    "In short, while learning Git, only push when the target is a bare repository; otherwise pull.\n",
    "\n",
    "### Forking a Project \n",
    "\n",
    "Sick of the way a project is being run? Think you could do a better job? Then on your server:\n",
    "\n"
   ]
  },
  {
   "cell_type": "code",
   "execution_count": null,
   "metadata": {},
   "outputs": [],
   "source": [
    " ! git clone git://main.server/path/to/files\n"
   ]
  },
  {
   "cell_type": "markdown",
   "metadata": {},
   "source": [
    "\n",
    "Next, tell everyone about your fork of the project at your server.\n",
    "\n",
    "At any later time, you can merge in the changes from the original project with:\n",
    "\n"
   ]
  },
  {
   "cell_type": "code",
   "execution_count": null,
   "metadata": {},
   "outputs": [],
   "source": [
    " ! git pull\n"
   ]
  },
  {
   "cell_type": "markdown",
   "metadata": {},
   "source": [
    "\n",
    "### Ultimate Backups \n",
    "\n",
    "Want numerous tamper-proof geographically diverse redundant archives? If your project has many developers, don't do anything! Every clone of your code is effectively a backup. Not just of the current state, but of your project's entire history. Thanks to cryptographic hashing, if anyone's clone becomes corrupted, it will be spotted as soon as they try to communicate with others.\n",
    "\n",
    "If your project is not so popular, find as many servers as you can to host clones.\n",
    "\n",
    "The truly paranoid should always write down the latest 20-byte SHA1 hash of the HEAD somewhere safe. It has to be safe, not private. For example, publishing it in a newspaper would work well, because it's hard for an attacker to alter every copy of a newspaper.\n",
    "\n",
    "### Light-Speed Multitask \n",
    "\n",
    "Say you want to work on several features in parallel. Then commit your project and run:\n",
    "\n"
   ]
  },
  {
   "cell_type": "code",
   "execution_count": null,
   "metadata": {},
   "outputs": [],
   "source": [
    " ! git clone . /some/new/directory\n"
   ]
  },
  {
   "cell_type": "markdown",
   "metadata": {},
   "source": [
    "\n",
    "Thanks to http://en.wikipedia.org/wiki/Hard_link[hardlinking], local clones\n",
    "require less time and space than a plain backup.\n",
    "\n",
    "You can now work on two independent features simultaneously. For example, you\n",
    "can edit one clone while the other is compiling. At any time, you can commit\n",
    "and pull changes from the other clone:\n",
    "\n"
   ]
  },
  {
   "cell_type": "code",
   "execution_count": null,
   "metadata": {},
   "outputs": [],
   "source": [
    " ! git pull /the/other/clone HEAD\n"
   ]
  },
  {
   "cell_type": "markdown",
   "metadata": {},
   "source": [
    "\n",
    "### Guerilla Version Control \n",
    "\n",
    "Are you working on a project that uses some other version control system, and you sorely miss Git? Then initialize a Git repository in your working directory:\n",
    "\n"
   ]
  },
  {
   "cell_type": "code",
   "execution_count": null,
   "metadata": {},
   "outputs": [],
   "source": [
    " ! git init\n",
    " ! git add .\n",
    " ! git commit -m \"Initial commit\"\n"
   ]
  },
  {
   "cell_type": "markdown",
   "metadata": {},
   "source": [
    "\n",
    "then clone it:\n",
    "\n"
   ]
  },
  {
   "cell_type": "code",
   "execution_count": null,
   "metadata": {},
   "outputs": [],
   "source": [
    " ! git clone . /some/new/directory\n"
   ]
  },
  {
   "cell_type": "markdown",
   "metadata": {},
   "source": [
    "\n",
    "Now go to the new directory and work here instead, using Git to your heart's content. Once in a while, you'll want to sync with everyone else, in which case go to the original directory, sync using the other version control system, and type:\n",
    "\n"
   ]
  },
  {
   "cell_type": "code",
   "execution_count": null,
   "metadata": {},
   "outputs": [],
   "source": [
    " ! git add .\n",
    " ! git commit -m \"Sync with everyone else\"\n"
   ]
  },
  {
   "cell_type": "markdown",
   "metadata": {},
   "source": [
    "\n",
    "Then go to the new directory and run:\n",
    "\n"
   ]
  },
  {
   "cell_type": "code",
   "execution_count": null,
   "metadata": {},
   "outputs": [],
   "source": [
    " ! git commit -a -m \"Description of my changes\"\n",
    " ! git pull\n"
   ]
  },
  {
   "cell_type": "markdown",
   "metadata": {},
   "source": [
    "\n",
    "The procedure for giving your changes to everyone else depends on the other version control system. The new directory contains the files with your changes. Run whatever commands of the other version control system are needed to upload them to the central repository.\n",
    "\n",
    "Subversion, perhaps the best centralized version control system, is used by countless projects. The *git svn* command automates the above for Subversion repositories, and can also be used to http://google-opensource.blogspot.com/2008/05/export-git-project-to-google-code.html[export a Git project to a Subversion repository].\n",
    "\n",
    "### Mercurial \n",
    "\n",
    "Mercurial is a similar version control system that can almost seamlessly work in tandem with Git. With the `hg-git` plugin, a Mercurial user can losslessly push to and pull from a Git repository.\n",
    "\n",
    "Obtain the `hg-git` plugin with Git:\n",
    "\n"
   ]
  },
  {
   "cell_type": "code",
   "execution_count": null,
   "metadata": {},
   "outputs": [],
   "source": [
    " ! git clone git://github.com/schacon/hg-git.git\n"
   ]
  },
  {
   "cell_type": "markdown",
   "metadata": {},
   "source": [
    "\n",
    "or Mercurial:\n",
    "\n"
   ]
  },
  {
   "cell_type": "code",
   "execution_count": null,
   "metadata": {},
   "outputs": [],
   "source": [
    " ! hg clone http://bitbucket.org/durin42/hg-git/\n"
   ]
  },
  {
   "cell_type": "markdown",
   "metadata": {},
   "source": [
    "\n",
    "Sadly, I am unaware of an analogous plugin for Git. For this reason, I advocate Git over Mercurial for the main repository, even if you prefer Mercurial. With a Mercurial project, usually a volunteer maintains a parallel Git repository to accommodate Git users, whereas thanks to the `hg-git` plugin, a Git project automatically accommodates Mercurial users.\n",
    "\n",
    "Although the plugin can convert a Mercurial repository to a Git repository by pushing to an empty repository, this job is easier with the `hg-fast-export.sh` script, available from:\n",
    "\n"
   ]
  },
  {
   "cell_type": "code",
   "execution_count": null,
   "metadata": {},
   "outputs": [],
   "source": [
    " ! git clone git://repo.or.cz/fast-export.git\n"
   ]
  },
  {
   "cell_type": "markdown",
   "metadata": {},
   "source": [
    "\n",
    "To convert, in an empty directory:\n",
    "\n"
   ]
  },
  {
   "cell_type": "code",
   "execution_count": null,
   "metadata": {},
   "outputs": [],
   "source": [
    " ! git init\n",
    " ! hg-fast-export.sh -r /hg/repo\n"
   ]
  },
  {
   "cell_type": "markdown",
   "metadata": {},
   "source": [
    "\n",
    "after adding the script to your `$PATH`.\n",
    "\n",
    "### Bazaar \n",
    "\n",
    "We briefly mention Bazaar because it is the most popular free distributed\n",
    "version control system after Git and Mercurial.\n",
    "\n",
    "Bazaar has the advantage of hindsight, as it is relatively young; its designers could learn from mistakes of the past, and sidestep minor historical warts. Additionally, its developers are mindful of portability and interoperation with other version control systems.\n",
    "\n",
    "A `bzr-git` plugin lets Bazaar users work with Git repositories to some extent. The `tailor` program converts Bazaar repositories to Git repositories, and can do so incrementally, while `bzr-fast-export` is well-suited for one-shot conversions.\n",
    "\n",
    "### Why I use Git \n",
    "\n",
    "I originally chose Git because I heard it could manage the unimaginably unmanageable Linux kernel source. I've never felt a need to switch. Git has served admirably, and I've yet to be bitten by its flaws. As I primarily use Linux, issues on other platforms are of no concern.\n",
    "\n",
    "Also, I prefer C programs and bash scripts to executables such as Python scripts: there are fewer dependencies, and I'm addicted to fast running times.\n",
    "\n",
    "I did think about how Git could be improved, going so far as to write my own Git-like tool, but only as an academic exercise. Had I completed my project, I would have stayed with Git anyway, as the gains are too slight to justify using an oddball system.\n",
    "\n",
    "Naturally, your needs and wants likely differ, and you may be better off with another system. Nonetheless, you can't go far wrong with Git.\n"
   ]
  }
 ],
 "metadata": {
  "kernelspec": {
   "display_name": "Python 3",
   "language": "python",
   "name": "python3"
  }
 },
 "nbformat": 4,
 "nbformat_minor": 4
}
