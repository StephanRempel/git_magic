{
 "cells": [
  {
   "cell_type": "code",
   "execution_count": null,
   "metadata": {},
   "outputs": [],
   "source": [
    "# default_exp history"
   ]
  },
  {
   "cell_type": "markdown",
   "metadata": {},
   "source": [
    "# Lessons of History \n",
    "> Summary"
   ]
  },
  {
   "cell_type": "markdown",
   "metadata": {},
   "source": [
    "A consequence of Git's distributed nature is that history can be edited\n",
    "easily. But if you tamper with the past, take care: only rewrite that part of\n",
    "history which you alone possess. Just as nations forever argue over who\n",
    "committed what atrocity, if someone else has a clone whose version of history\n",
    "differs to yours, you will have trouble reconciling when your trees interact.\n",
    "\n",
    "Some developers strongly feel history should be immutable, warts and all.\n",
    "Others feel trees should be made presentable before they are unleashed in\n",
    "public. Git accommodates both viewpoints. Like cloning, branching, and merging,\n",
    "rewriting history is simply another power Git gives you. It is up to you\n",
    "to use it wisely.\n",
    "\n",
    "### I Stand Corrected \n",
    "\n",
    "Did you just commit, but wish you had typed a different message? Then run:"
   ]
  },
  {
   "cell_type": "code",
   "execution_count": null,
   "metadata": {},
   "outputs": [],
   "source": [
    " ! git commit --amend\n"
   ]
  },
  {
   "cell_type": "markdown",
   "metadata": {},
   "source": [
    "\n",
    "to change the last message. Realized you forgot to add a file? Run *git add* to\n",
    "add it, and then run the above command.\n",
    "\n",
    "Want to include a few more edits in that last commit? Then make those edits and run:\n",
    "\n"
   ]
  },
  {
   "cell_type": "code",
   "execution_count": null,
   "metadata": {},
   "outputs": [],
   "source": [
    " ! git commit --amend -a\n"
   ]
  },
  {
   "cell_type": "markdown",
   "metadata": {},
   "source": [
    "\n",
    "### ... And Then Some \n",
    "\n",
    "Suppose the previous problem is ten times worse. After a lengthy session you've\n",
    "made a bunch of commits. But you're not quite happy with the way they're\n",
    "organized, and some of those commit messages could use rewording. Then type:\n",
    "\n"
   ]
  },
  {
   "cell_type": "code",
   "execution_count": null,
   "metadata": {},
   "outputs": [],
   "source": [
    " ! git rebase -i HEAD~10\n"
   ]
  },
  {
   "cell_type": "markdown",
   "metadata": {},
   "source": [
    "\n",
    "and the last 10 commits will appear in your favourite $EDITOR. A sample excerpt:\n",
    "\n",
    "    pick 5c6eb73 Added repo.or.cz link\n",
    "    pick a311a64 Reordered analogies in \"Work How You Want\"\n",
    "    pick 100834f Added push target to Makefile\n",
    "\n",
    "Older commits precede newer commits in this list, unlike the `log` command.\n",
    "Here, 5c6eb73 is the oldest commit, and 100834f is the newest. Then:\n",
    "\n",
    "- Remove commits by deleting lines. Like the revert command, but off the\n",
    "  record: it will be as if the commit never existed.\n",
    "- Reorder commits by reordering lines.\n",
    "- Replace `pick` with:\n",
    "   * `edit` to mark a commit for amending.\n",
    "   * `reword` to change the log message.\n",
    "   * `squash` to merge a commit with the previous one.\n",
    "   * `fixup` to merge a commit with the previous one and discard the log message.\n",
    "\n",
    "For example, we might replace the second `pick` with `squash`:\n",
    "\n",
    "    pick 5c6eb73 Added repo.or.cz link\n",
    "    squash a311a64 Reordered analogies in \"Work How You Want\"\n",
    "    pick 100834f Added push target to Makefile\n",
    "\n",
    "After we save and quit, Git merges a311a64 into 5c6eb73. Thus *squash* merges\n",
    "into the next commit up: think ``squash up''.\n",
    "\n",
    "Git then combines their log messages and presents them for editing. The\n",
    "command *fixup* skips this step; the squashed log message is simply discarded.\n",
    "\n",
    "If you marked a commit with *edit*, Git returns you to the past, to the oldest\n",
    "such commit. You can amend the old commit as described in the previous section,\n",
    "and even create new commits that belong here. Once you're pleased with the\n",
    "``retcon'', go forward in time by running:\n",
    "\n"
   ]
  },
  {
   "cell_type": "code",
   "execution_count": null,
   "metadata": {},
   "outputs": [],
   "source": [
    " ! git rebase --continue\n"
   ]
  },
  {
   "cell_type": "markdown",
   "metadata": {},
   "source": [
    "\n",
    "Git replays commits until the next *edit*, or to the present if none remain.\n",
    "\n",
    "You can also abandon the rebase with:\n",
    "\n"
   ]
  },
  {
   "cell_type": "code",
   "execution_count": null,
   "metadata": {},
   "outputs": [],
   "source": [
    " ! git rebase --abort\n"
   ]
  },
  {
   "cell_type": "markdown",
   "metadata": {},
   "source": [
    "\n",
    "So commit early and commit often: you can tidy up later with rebase.\n",
    "\n",
    "### Local Changes Last \n",
    "\n",
    "You're working on an active project. You make some local commits over time, and\n",
    "then you sync with the official tree with a merge. This cycle repeats itself a few times before you're ready to push to the central tree.\n",
    "\n",
    "But now the history in your local Git clone is a messy jumble of your changes and the official changes. You'd prefer to see all your changes in one contiguous section, and after all the official changes.\n",
    "\n",
    "This is a job for *git rebase* as described above. In many cases you can use\n",
    "the *--onto* flag and avoid interaction.\n",
    "\n",
    "Also see *git help rebase* for detailed examples of this amazing command. You can split commits. You can even rearrange branches of a tree.\n",
    "\n",
    "Take care: rebase is a powerful command. For complicated rebases, first make a\n",
    "backup with *git clone*.\n",
    "\n",
    "### Rewriting History \n",
    "\n",
    "Occasionally, you need the source control equivalent of airbrushing people out\n",
    "of official photos, erasing them from history in a Stalinesque fashion. For\n",
    "example, suppose we intend to release a project, but it involves a file that\n",
    "should be kept private for some reason. Perhaps I left my credit card number in\n",
    "a text file and accidentally added it to the project. Deleting the file is\n",
    "insufficient, for the file can be accessed from older commits. We must remove\n",
    "the file from all commits:\n",
    "\n"
   ]
  },
  {
   "cell_type": "code",
   "execution_count": null,
   "metadata": {},
   "outputs": [],
   "source": [
    " ! git filter-branch --tree-filter 'rm top/secret/file' HEAD\n"
   ]
  },
  {
   "cell_type": "markdown",
   "metadata": {},
   "source": [
    "\n",
    "See *git help filter-branch*, which discusses this example and gives a faster\n",
    "method. In general, *filter-branch* lets you alter large sections of history\n",
    "with a single command.\n",
    "\n",
    "Afterwards, the +.git/refs/original+ directory describes the state of affairs before the operation. Check the filter-branch command did what you wanted, then delete this directory if you wish to run more filter-branch commands.\n",
    "\n",
    "Lastly, replace clones of your project with your revised version if you want to interact with them later.\n",
    "\n",
    "### Making History \n",
    "\n",
    "[[makinghistory]]\n",
    "Want to migrate a project to Git? If it's managed with one of the more well-known systems, then chances are someone has already written a script to export the whole history to Git.\n",
    "\n",
    "Otherwise, look up *git fast-import*, which reads text input in a specific\n",
    "format to create Git history from scratch. Typically a script using this\n",
    "command is hastily cobbled together and run once, migrating the project in a\n",
    "single shot.\n",
    "\n",
    "As an example, paste the following listing into temporary file, such as `/tmp/history`:\n",
    "----------------------------------\n",
    "commit refs/heads/master\n",
    "committer Alice <alice@example.com> Thu, 01 Jan 1970 00:00:00 +0000\n",
    "data <<EOT\n",
    "Initial commit.\n",
    "EOT\n",
    "\n",
    "M 100644 inline hello.c\n",
    "data <<EOT\n",
    "#include <stdio.h>\n",
    "\n",
    "int main() {\n",
    "  printf(\"Hello, world!\\n\");\n",
    "  return 0;\n",
    "}\n",
    "EOT\n",
    "\n",
    "\n",
    "commit refs/heads/master\n",
    "committer Bob <bob@example.com> Tue, 14 Mar 2000 01:59:26 -0800\n",
    "data <<EOT\n",
    "Replace printf() with write().\n",
    "EOT\n",
    "\n",
    "M 100644 inline hello.c\n",
    "data <<EOT\n",
    "#include <unistd.h>\n",
    "\n",
    "int main() {\n",
    "  write(1, \"Hello, world!\\n\", 14);\n",
    "  return 0;\n",
    "}\n",
    "EOT\n",
    "\n",
    "----------------------------------\n",
    "\n",
    "Then create a Git repository from this temporary file by typing:\n",
    "\n"
   ]
  },
  {
   "cell_type": "code",
   "execution_count": null,
   "metadata": {},
   "outputs": [],
   "source": [
    " ! mkdir project; cd project; git init\n",
    " ! git fast-import --date-format=rfc2822 < /tmp/history\n"
   ]
  },
  {
   "cell_type": "markdown",
   "metadata": {},
   "source": [
    "\n",
    "You can checkout the latest version of the project with:\n",
    "\n"
   ]
  },
  {
   "cell_type": "code",
   "execution_count": null,
   "metadata": {},
   "outputs": [],
   "source": [
    " ! git checkout master .\n"
   ]
  },
  {
   "cell_type": "markdown",
   "metadata": {},
   "source": [
    "\n",
    "The *git fast-export* command converts any repository to the\n",
    "*git fast-import* format, whose output you can study for writing exporters,\n",
    "and also to transport repositories in a human-readable format. Indeed,\n",
    "these commands can send repositories of text files over text-only channels.\n",
    "\n",
    "### Where Did It All Go Wrong? \n",
    "\n",
    "You've just discovered a broken feature in your program which you know for sure was working a few months ago. Argh! Where did this bug come from? If only you had been testing the feature as you developed.\n",
    "\n",
    "It's too late for that now. However, provided you've been committing often, Git\n",
    "can pinpoint the problem:\n",
    "\n"
   ]
  },
  {
   "cell_type": "code",
   "execution_count": null,
   "metadata": {},
   "outputs": [],
   "source": [
    " ! git bisect start\n",
    " ! git bisect bad HEAD\n",
    " ! git bisect good 1b6d\n"
   ]
  },
  {
   "cell_type": "markdown",
   "metadata": {},
   "source": [
    "\n",
    "Git checks out a state halfway in between. Test the feature, and if it's still broken:\n",
    "\n"
   ]
  },
  {
   "cell_type": "code",
   "execution_count": null,
   "metadata": {},
   "outputs": [],
   "source": [
    " ! git bisect bad\n"
   ]
  },
  {
   "cell_type": "markdown",
   "metadata": {},
   "source": [
    "\n",
    "If not, replace \"bad\" with \"good\". Git again transports you to a state halfway\n",
    "between the known good and bad versions, narrowing down the possibilities.\n",
    "After a few iterations, this binary search will lead you to the commit that\n",
    "caused the trouble. Once you've finished your investigation, return to your\n",
    "original state by typing:\n",
    "\n"
   ]
  },
  {
   "cell_type": "code",
   "execution_count": null,
   "metadata": {},
   "outputs": [],
   "source": [
    " ! git bisect reset\n"
   ]
  },
  {
   "cell_type": "markdown",
   "metadata": {},
   "source": [
    "\n",
    "Instead of testing every change by hand, automate the search by running:\n",
    "\n"
   ]
  },
  {
   "cell_type": "code",
   "execution_count": null,
   "metadata": {},
   "outputs": [],
   "source": [
    " ! git bisect run my_script\n"
   ]
  },
  {
   "cell_type": "markdown",
   "metadata": {},
   "source": [
    "\n",
    "Git uses the return value of the given command, typically a one-off script, to\n",
    "decide whether a change is good or bad: the command should exit with code 0\n",
    "when good, 125 when the change should be skipped, and anything else between 1\n",
    "and 127 if it is bad. A negative return value aborts the bisect.\n",
    "\n",
    "You can do much more: the help page explains how to visualize bisects, examine\n",
    "or replay the bisect log, and eliminate known innocent changes for a speedier\n",
    "search.\n",
    "\n",
    "### Who Made It All Go Wrong? \n",
    "\n",
    "Like many other version control systems, Git has a blame command:\n",
    "\n"
   ]
  },
  {
   "cell_type": "code",
   "execution_count": null,
   "metadata": {},
   "outputs": [],
   "source": [
    " ! git blame bug.c\n"
   ]
  },
  {
   "cell_type": "markdown",
   "metadata": {},
   "source": [
    "\n",
    "which annotates every line in the given file showing who last changed it, and when. Unlike many other version control systems, this operation works offline, reading only from local disk.\n",
    "\n",
    "### Personal Experience \n",
    "\n",
    "In a centralized version control system, history modification is a difficult\n",
    "operation, and only available to administrators. Cloning, branching, and\n",
    "merging are impossible without network communication. So are basic operations\n",
    "such as browsing history, or committing a change. In some systems, users\n",
    "require network connectivity just to view their own changes or open a file for\n",
    "editing.\n",
    "\n",
    "Centralized systems preclude working offline, and need more expensive network\n",
    "infrastructure, especially as the number of developers grows. Most\n",
    "importantly, all operations are slower to some degree, usually to the point\n",
    "where users shun advanced commands unless absolutely necessary. In extreme\n",
    "cases this is true of even the most basic commands. When users must run slow\n",
    "commands, productivity suffers because of an interrupted work flow.\n",
    "\n",
    "I experienced these phenomena first-hand. Git was the first version control\n",
    "system I used. I quickly grew accustomed to it, taking many features for\n",
    "granted. I simply assumed other systems were similar: choosing a version\n",
    "control system ought to be no different from choosing a text editor or web\n",
    "browser.\n",
    "\n",
    "I was shocked when later forced to use a centralized system. A flaky internet\n",
    "connection matters little with Git, but makes development unbearable when it\n",
    "needs to be as reliable as local disk. Additionally, I found myself conditioned\n",
    "to avoid certain commands because of the latencies involved, which ultimately\n",
    "prevented me from following my desired work flow.\n",
    "\n",
    "When I had to run a slow command, the interruption to my train of thought\n",
    "dealt a disproportionate amount of damage. While waiting for server\n",
    "communication to complete, I'd do something else to pass the time, such as\n",
    "check email or write documentation. By the time I returned to the original\n",
    "task, the command had finished long ago, and I would waste more time trying to\n",
    "remember what I was doing. Humans are bad at context switching.\n",
    "\n",
    "There was also an interesting tragedy-of-the-commons effect: anticipating\n",
    "network congestion, individuals would consume more bandwidth than necessary on\n",
    "various operations in an attempt to reduce future delays. The combined efforts\n",
    "intensified congestion, encouraging individuals to consume even more bandwidth\n",
    "next time to avoid even longer delays.\n"
   ]
  }
 ],
 "metadata": {
  "kernelspec": {
   "display_name": "Python 3",
   "language": "python",
   "name": "python3"
  }
 },
 "nbformat": 4,
 "nbformat_minor": 4
}
