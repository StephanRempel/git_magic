{
 "cells": [
  {
   "cell_type": "code",
   "execution_count": null,
   "metadata": {},
   "outputs": [],
   "source": [
    "# default_exp preface"
   ]
  },
  {
   "cell_type": "markdown",
   "metadata": {},
   "source": [
    "# Git Magic \n",
    "> Summary"
   ]
  },
  {
   "cell_type": "markdown",
   "metadata": {},
   "source": [
    "Ben Lynn\n",
    "August 2007\n",
    "\n",
    "## Preface \n",
    "\n",
    "http://git-scm.com/[Git] is a version control Swiss army knife. A reliable versatile multipurpose revision control tool whose extraordinary flexibility makes it tricky to learn, let alone master.\n",
    "\n",
    "As Arthur C. Clarke observed, any sufficiently advanced technology is indistinguishable from magic. This is a great way to approach Git: newbies can ignore its inner workings and view Git as a gizmo that can amaze friends and infuriate enemies with its wondrous abilities.\n",
    "\n",
    "Rather than go into details, we provide rough instructions for particular effects. After repeated use, gradually you will understand how each trick works, and how to tailor the recipes for your needs.\n",
    "\n",
    ".Translations\n",
    "\n",
    " - link:/\\~blynn/gitmagic/intl/zh_cn/[Simplified Chinese]: by JunJie, Meng and JiangWei. Converted to link:/~blynn/gitmagic/intl/zh_tw/[Traditional Chinese] via +cconv -f UTF8-CN -t UTF8-TW+.\n",
    " - link:/~blynn/gitmagic/intl/fr/[French]: by Alexandre Garel, Paul Gaborit, and Nicolas Deram. Also hosted at http://tutoriels.itaapy.com/[itaapy].\n",
    " - link:/~blynn/gitmagic/intl/de/[German]: by Benjamin Bellee and Armin Stebich; also http://gitmagic.lordofbikes.de/[hosted on Armin's website].\n",
    " - link:/~blynn/gitmagic/intl/it/[Italian]: by Mattia Rigotti.\n",
    " - link:/~blynn/gitmagic/intl/ko/[Korean]: by Jung-Ho (John) Han; also https://sites.google.com/site/drinkhanjohn/useful-links/[hosted on John's website].\n",
    " - link:/~blynn/gitmagic/intl/pl/[Polish]: by Damian Michna.\n",
    " - link:/~blynn/gitmagic/intl/pt_br/[Brazilian Portuguese]: by José Inácio Serafini and Leonardo Siqueira Rodrigues.\n",
    " - link:/~blynn/gitmagic/intl/ru/[Russian]: by Tikhon Tarnavsky, Mikhail Dymskov, and others.\n",
    " - link:/~blynn/gitmagic/intl/es/[Spanish]: by Rodrigo Toledo and Ariset Llerena Tapia.\n",
    " - link:/~blynn/gitmagic/intl/uk/[Ukrainian]: by Volodymyr Bodenchuk.\n",
    " - link:/~blynn/gitmagic/intl/vi/[Vietnamese]: by Trần Ngọc Quân; also http://vnwildman.users.sourceforge.net/gitmagic/[hosted on his website].\n",
    "\n",
    ".Other Editions\n",
    "\n",
    " - link:book.html[Single webpage]: barebones HTML, with no CSS.\n",
    " - link:book.pdf[PDF file]: printer-friendly.\n",
    " - link:book.epub[EPUB file]: E-reader-friendly.\n",
    " - http://packages.debian.org/gitmagic[Debian package], http://packages.ubuntu.com/gitmagic[Ubuntu package]: get a fast and local copy of this site. Handy http://csdcf.stanford.edu/status/[when this server is offline].\n",
    " - http://www.amazon.com/Git-Magic-Ben-Lynn/dp/1451523343/[Physical book [Amazon.com]]: 64 pages, 15.24cm x 22.86cm, black and white. Handy when there is no electricity.\n",
    "\n",
    "### Thanks! \n",
    "\n",
    "I'm humbled that so many people have worked on translations of these pages. I\n",
    "greatly appreciate having a wider audience because of the efforts of those\n",
    "named above.\n",
    "\n",
    "Dustin Sallings, Alberto Bertogli, James Cameron, Douglas Livingstone, Michael Budde, Richard Albury, Tarmigan, Derek Mahar, Frode Aannevik, Keith Rarick, Andy Somerville, Ralf Recker, Øyvind A. Holm, Miklos Vajna, Sébastien Hinderer, Thomas Miedema, Joe Malin, Tyler Breisacher, Sonia Hamilton, Julian Haagsma, Romain Lespinasse, Sergey Litvinov, Oliver Ferrigni, David Toca, Сергей Сергеев, Joël Thieffry, and Baiju Muthukadan contributed corrections and improvements.\n",
    "\n",
    "François Marier maintains the Debian package originally created by Daniel\n",
    "Baumann.\n",
    "\n",
    "\n",
    "My gratitude goes to many others for your support and praise. I'm tempted to\n",
    "quote you here, but it might raise expectations to ridiculous heights.\n",
    "\n",
    "If I've left you out by mistake, please tell me or just send me a patch!\n",
    "\n",
    "### License \n",
    "\n",
    "This guide is released under http://www.gnu.org/licenses/gpl-3.0.html[the GNU General Public License version 3]. Naturally, the source is kept in a Git\n",
    "repository, and can be obtained by typing:"
   ]
  },
  {
   "cell_type": "code",
   "execution_count": null,
   "metadata": {},
   "outputs": [],
   "source": [
    " ! git clone git://repo.or.cz/gitmagic.git  # Creates \"gitmagic\" directory.\n"
   ]
  },
  {
   "cell_type": "markdown",
   "metadata": {},
   "source": [
    "\n",
    "or from one of the mirrors:\n",
    "\n"
   ]
  },
  {
   "cell_type": "code",
   "execution_count": null,
   "metadata": {},
   "outputs": [],
   "source": [
    " ! git clone git://github.com/blynn/gitmagic.git\n",
    " ! git clone git://git.assembla.com/gitmagic.git\n",
    " ! git clone git@bitbucket.org:blynn/gitmagic.git\n"
   ]
  },
  {
   "cell_type": "markdown",
   "metadata": {},
   "source": [
    "\n",
    "GitHub, Assembla, and Bitbucket support private repositories, the latter two\n",
    "for free.\n"
   ]
  }
 ],
 "metadata": {
  "kernelspec": {
   "display_name": "Python 3",
   "language": "python",
   "name": "python3"
  }
 },
 "nbformat": 4,
 "nbformat_minor": 4
}
